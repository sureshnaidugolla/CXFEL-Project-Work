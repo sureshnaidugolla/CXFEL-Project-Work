{
  "nbformat": 4,
  "nbformat_minor": 0,
  "metadata": {
    "colab": {
      "provenance": [],
      "authorship_tag": "ABX9TyMRzW7Og6HTv5o4FlikC/XS",
      "include_colab_link": true
    },
    "kernelspec": {
      "name": "python3",
      "display_name": "Python 3"
    },
    "language_info": {
      "name": "python"
    }
  },
  "cells": [
    {
      "cell_type": "markdown",
      "metadata": {
        "id": "view-in-github",
        "colab_type": "text"
      },
      "source": [
        "<a href=\"https://colab.research.google.com/github/sureshnaidugolla/CXFEL-Project-Work/blob/main/MatrixMultiplication.ipynb\" target=\"_parent\"><img src=\"https://colab.research.google.com/assets/colab-badge.svg\" alt=\"Open In Colab\"/></a>"
      ]
    },
    {
      "cell_type": "code",
      "execution_count": 50,
      "metadata": {
        "id": "9RQu0mJWN-Z1"
      },
      "outputs": [],
      "source": [
        "import numpy as np\n",
        "from numpy.random import default_rng"
      ]
    },
    {
      "cell_type": "markdown",
      "source": [
        "## distance between two matrices matA and matB using euqlidean distance formule\n",
        "\n",
        "## D=sqrt((A-B)**2)\n",
        "\n",
        "d = \\sqrt {\\left ({x_1 - x_2 } right)^2 + left ({y_1 - y_2 } right)^2 }"
      ],
      "metadata": {
        "id": "EUBPNjJGVWl6"
      }
    },
    {
      "cell_type": "code",
      "source": [
        "matA=default_rng(50).random((100,100))\n",
        "matB=default_rng(100).random((100, 100))\n",
        "np.linalg.norm(matA-matB)==np.sqrt((matA-matB)**2)"
      ],
      "metadata": {
        "id": "SqMYn69nOM9D"
      },
      "execution_count": null,
      "outputs": []
    },
    {
      "cell_type": "code",
      "source": [
        "\n",
        "A=np.array([[2,4],[3,5]])\n",
        "B=np.array([[4,6],[7,8]])\n",
        "np.sqrt(A**2+B**2-2*A*B)"
      ],
      "metadata": {
        "colab": {
          "base_uri": "https://localhost:8080/"
        },
        "id": "oLLiSI6vVFRU",
        "outputId": "de193a48-6b5d-4bb1-fefb-d56f3d0a8015"
      },
      "execution_count": 91,
      "outputs": [
        {
          "output_type": "execute_result",
          "data": {
            "text/plain": [
              "array([[2., 2.],\n",
              "       [4., 3.]])"
            ]
          },
          "metadata": {},
          "execution_count": 91
        }
      ]
    },
    {
      "cell_type": "code",
      "source": [
        "import numpy as np\n",
        "nRow_A = 6\n",
        "nCol_A = 9\n",
        "# Create a NumPy array\n",
        "Grid = np.random.random((nRow_A, nCol_A))\n",
        "# Get the indices of the grid\n",
        "#row, col = np.indices(Grid.shape)\n",
        "Grid.shape"
      ],
      "metadata": {
        "colab": {
          "base_uri": "https://localhost:8080/"
        },
        "id": "YdsQt_oBCPb4",
        "outputId": "229f62dc-4938-42d4-bafa-a3c9193c2930"
      },
      "execution_count": 3,
      "outputs": [
        {
          "output_type": "execute_result",
          "data": {
            "text/plain": [
              "(6, 9)"
            ]
          },
          "metadata": {},
          "execution_count": 3
        }
      ]
    },
    {
      "cell_type": "code",
      "source": [
        "default_rng(50).random((2,3))"
      ],
      "metadata": {
        "colab": {
          "base_uri": "https://localhost:8080/"
        },
        "id": "CXH4mZpnj2Ae",
        "outputId": "13b2d717-8d75-4bc6-b41c-aacb848a196a"
      },
      "execution_count": 100,
      "outputs": [
        {
          "output_type": "execute_result",
          "data": {
            "text/plain": [
              "array([[0.78742269, 0.83366933, 0.54790446],\n",
              "       [0.9734491 , 0.23683356, 0.64692334]])"
            ]
          },
          "metadata": {},
          "execution_count": 100
        }
      ]
    },
    {
      "cell_type": "code",
      "source": [],
      "metadata": {
        "id": "WHh54ZXljj60"
      },
      "execution_count": 97,
      "outputs": []
    }
  ]
}