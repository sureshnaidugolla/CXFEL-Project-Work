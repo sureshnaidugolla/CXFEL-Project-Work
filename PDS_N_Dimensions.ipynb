{
  "nbformat": 4,
  "nbformat_minor": 0,
  "metadata": {
    "colab": {
      "provenance": [],
      "authorship_tag": "ABX9TyOWzPE0GKZ6A08tkSTzgHCf",
      "include_colab_link": true
    },
    "kernelspec": {
      "name": "python3",
      "display_name": "Python 3"
    },
    "language_info": {
      "name": "python"
    }
  },
  "cells": [
    {
      "cell_type": "markdown",
      "metadata": {
        "id": "view-in-github",
        "colab_type": "text"
      },
      "source": [
        "<a href=\"https://colab.research.google.com/github/sureshnaidugolla/myrepo/blob/GP/PDS_N_Dimensions.ipynb\" target=\"_parent\"><img src=\"https://colab.research.google.com/assets/colab-badge.svg\" alt=\"Open In Colab\"/></a>"
      ]
    },
    {
      "cell_type": "markdown",
      "source": [
        "#functions to find the position of the coordinates"
      ],
      "metadata": {
        "id": "AGStdhQKyPd3"
      }
    },
    {
      "cell_type": "code",
      "execution_count": 89,
      "metadata": {
        "colab": {
          "base_uri": "https://localhost:8080/"
        },
        "id": "X_a_V2UVrKLo",
        "outputId": "45399bd3-413f-42af-a077-672c24ca7da0"
      },
      "outputs": [
        {
          "output_type": "stream",
          "name": "stdout",
          "text": [
            "[4 2]\n",
            "<class 'numpy.ndarray'>\n"
          ]
        },
        {
          "output_type": "execute_result",
          "data": {
            "text/plain": [
              "array([ True])"
            ]
          },
          "metadata": {},
          "execution_count": 89
        }
      ],
      "source": [
        "###################################\n",
        "######### SPARSE RESHAPER #########\n",
        "###################################\n",
        "import numpy as np\n",
        "\n",
        "def ints_to_tuples(the_ints, denseshape):\n",
        "   \"\"\"\n",
        "   ***Reshape single sparse list-of-tuples 1d tensor/array into a 2d array/tensor list-of-tuples.\n",
        "   GIVEN : the_ints (int numpy array) array of cells we need in the grid\n",
        "           denseshape (int 1d numpy array)\n",
        "   GET   : 2d numpy (being the 'list'-of-tuples) shape of the whole array that is how the grid stored in the array\n",
        "   \"\"\"\n",
        "   the_ints   = np.ndarray.flatten(the_ints) ## forces the_ints to be 1-dimensional\n",
        "   denseshape = np.ndarray.flatten(denseshape)\n",
        "   denseshape = np.concatenate( (np.flip( np.cumprod( np.roll(np.flip(denseshape, [0]), 1)[1:] , axis=0 ), [0] ), np.ones_like(denseshape.reshape((denseshape.shape[0],1))[0], dtype=np.int64)),0)\n",
        "   out_tuple  = []\n",
        "\n",
        "   for s in denseshape: ## for each column in new-shape, generates tuple....\n",
        "       out_tuple.append( the_ints // s )\n",
        "       the_ints = np.remainder( the_ints, s )\n",
        "   return np.stack(out_tuple, 0)\n",
        "\n",
        "\n",
        "def tuples_to_ints(list_of_tuples, denseshape):\n",
        "   \"\"\"\n",
        "   ***Reshape sparse list-of-tuples tensor/array into a 1d array/tensor.\n",
        "   GIVEN:  list_of_tuples (2d int numpy array, with shape (col'n,rows), eg (3,12357))\n",
        "           dense_shape (1d torch.tensor, shape of the dense representation)\n",
        "   GET:    1d int torch.tensor (corresponding to pair-function)\n",
        "   \"\"\"\n",
        "   denseshape = np.ndarray.flatten(denseshape)\n",
        "   if list_of_tuples.shape[0]!=denseshape.shape[0]:\n",
        "       if list_of_tuples.size==0:\n",
        "           raise ValueError(\"list_of_tuples is empty\")\n",
        "       else:\n",
        "           raise ValueError(\"tuple-shapes and shape must match\")\n",
        "\n",
        "   denseshape = np.concatenate( (np.flip( np.cumprod( np.roll(np.flip(denseshape, [0]), 1)[1:] , axis=0 ), [0] ), np.ones_like(denseshape.reshape((denseshape.shape[0],1))[0], dtype=denseshape.dtype)),0)\n",
        "   denseshape = denseshape.astype(list_of_tuples.dtype)\n",
        "   #return torch.matmul(denseshape, list_of_tuples ) ## vector @ matrix product, (n) @ (n, N) , with O ~ nN (linear in N) ### this isnt implemented in cuda for pytorch!!!!! only works for int32\n",
        "   return np.sum(denseshape[:,None] * list_of_tuples, 0) ## matrix-product\n",
        "\n",
        "cell_grid =np.array([4,2])\n",
        "## for 2 dimensiond we can give [2,5]\n",
        "## for 3 dimensions we can give [2,3,4]\n",
        "print(cell_grid)\n",
        "positions=np.array([5])\n",
        "coordinates_of_positions=ints_to_tuples(positions,cell_grid) ## 1st parameter is the position for which we are asking coordinates  2nd parameter is rows and columns of the grid\n",
        "print(type(coordinates_of_positions))\n",
        "position_retrieve=tuples_to_ints(coordinates_of_positions,cell_grid)\n",
        "positions==position_retrieve\n"
      ]
    },
    {
      "cell_type": "code",
      "source": [
        "import numpy as np\n",
        "from numpy import sin, cos\n",
        "import matplotlib.pyplot as plt\n",
        "import time\n",
        "\n",
        "π = np.pi\n",
        "\n",
        "######################################\n",
        "\n",
        "#### user defines\n",
        "x_center = 0.0\n",
        "y_center = 0.0\n",
        "N        = 30 ## num of random points we generate\n",
        "R        = 1.0 ## minimum separation\n",
        "DesiredNumOfPoints=10 ## number of points to be sampled\n",
        "\n",
        "# we are finding the radial distance r from the center of the circle\n",
        "# we are taking a random number between [0,1] and then multiplying with R (min dist which is a radius of circle) and\n",
        "# adding R to make it R distance away from the point\n",
        "# basically finding a point between circles with radius R and 2R\n",
        "# the same way we are trying to find the random angle fro the center of the circle\n",
        "# we are multiplying random value [0,1] by 2 * PI (which represents a full circle, or 360 degrees)\n",
        "# ensures that theta ranges from 0 to 2π radians (or 0 to 360 degrees), covering all possible directions around the circle.\n",
        "\n",
        "#######################################################\n",
        "Dimension=2\n",
        "gridarray=[Dimension,DesiredNumOfPoints//Dimension]\n",
        "cgrid =np.ones(gridarray)*-1\n",
        "#cgrid=[-1 for i in range(DesiredNumOfPoints)]\n",
        "initial_pos=np.random.randint(0,DesiredNumOfPoints)\n",
        "initial_grid_coordinates=ints_to_tuples(np.asarray(initial_pos),cell_grid)\n",
        "print(initial_grid_coordinates)\n",
        "initial_point=initial_grid_coordinates+R/(Dimension)\n",
        "active_list = []\n",
        "active_list.append(center)\n",
        "numOfPoints=1\n",
        "\n",
        "for base_point in active_list:\n",
        "  r = R+np.random.rand(N)*R\n",
        "  θ = 2*π*np.random.rand(N)\n",
        "  sample_pts = np.asarray([base_point[0]+r*cos(θ), base_point[1]+r*sin(θ)])\n",
        "  for i in sample_pts.T:\n",
        "    flag=True\n",
        "    for j in active_list:\n",
        "      if(np.linalg.norm(j-i)<R):\n",
        "        flag=False\n",
        "        break\n",
        "    if(flag):\n",
        "      numOfPoints=numOfPoints+1\n",
        "      active_list.append(np.array(i))\n",
        "      #axisy=axisy+1\n",
        "      #plt.plot(i[0], i[1], 'r*')\n",
        "      break\n",
        "  if(numOfPoints>=DesiredNumOfPoints):\n",
        "      print(len(active_list))\n",
        "      break\n",
        "\n",
        "active_list=np.asarray(active_list)\n",
        "plt.plot(active_list.T[0],active_list.T[1], 'r*')\n",
        "plt.show()\n"
      ],
      "metadata": {
        "colab": {
          "base_uri": "https://localhost:8080/",
          "height": 245
        },
        "id": "6Z4z4W7GyIWR",
        "outputId": "0e37e669-d21a-42f8-fd23-d9af36f2b875"
      },
      "execution_count": 98,
      "outputs": [
        {
          "output_type": "stream",
          "name": "stdout",
          "text": [
            "[[0]\n",
            " [3]]\n"
          ]
        },
        {
          "output_type": "error",
          "ename": "ValueError",
          "evalue": "operands could not be broadcast together with shapes (2,) (30,) ",
          "traceback": [
            "\u001b[0;31m---------------------------------------------------------------------------\u001b[0m",
            "\u001b[0;31mValueError\u001b[0m                                Traceback (most recent call last)",
            "\u001b[0;32m<ipython-input-98-ee54a9f4b18a>\u001b[0m in \u001b[0;36m<cell line: 38>\u001b[0;34m()\u001b[0m\n\u001b[1;32m     39\u001b[0m   \u001b[0mr\u001b[0m \u001b[0;34m=\u001b[0m \u001b[0mR\u001b[0m\u001b[0;34m+\u001b[0m\u001b[0mnp\u001b[0m\u001b[0;34m.\u001b[0m\u001b[0mrandom\u001b[0m\u001b[0;34m.\u001b[0m\u001b[0mrand\u001b[0m\u001b[0;34m(\u001b[0m\u001b[0mN\u001b[0m\u001b[0;34m)\u001b[0m\u001b[0;34m*\u001b[0m\u001b[0mR\u001b[0m\u001b[0;34m\u001b[0m\u001b[0;34m\u001b[0m\u001b[0m\n\u001b[1;32m     40\u001b[0m   \u001b[0mθ\u001b[0m \u001b[0;34m=\u001b[0m \u001b[0;36m2\u001b[0m\u001b[0;34m*\u001b[0m\u001b[0mπ\u001b[0m\u001b[0;34m*\u001b[0m\u001b[0mnp\u001b[0m\u001b[0;34m.\u001b[0m\u001b[0mrandom\u001b[0m\u001b[0;34m.\u001b[0m\u001b[0mrand\u001b[0m\u001b[0;34m(\u001b[0m\u001b[0mN\u001b[0m\u001b[0;34m)\u001b[0m\u001b[0;34m\u001b[0m\u001b[0;34m\u001b[0m\u001b[0m\n\u001b[0;32m---> 41\u001b[0;31m   \u001b[0msample_pts\u001b[0m \u001b[0;34m=\u001b[0m \u001b[0mnp\u001b[0m\u001b[0;34m.\u001b[0m\u001b[0masarray\u001b[0m\u001b[0;34m(\u001b[0m\u001b[0;34m[\u001b[0m\u001b[0mbase_point\u001b[0m\u001b[0;34m[\u001b[0m\u001b[0;36m0\u001b[0m\u001b[0;34m]\u001b[0m\u001b[0;34m+\u001b[0m\u001b[0mr\u001b[0m\u001b[0;34m*\u001b[0m\u001b[0mcos\u001b[0m\u001b[0;34m(\u001b[0m\u001b[0mθ\u001b[0m\u001b[0;34m)\u001b[0m\u001b[0;34m,\u001b[0m \u001b[0mbase_point\u001b[0m\u001b[0;34m[\u001b[0m\u001b[0;36m1\u001b[0m\u001b[0;34m]\u001b[0m\u001b[0;34m+\u001b[0m\u001b[0mr\u001b[0m\u001b[0;34m*\u001b[0m\u001b[0msin\u001b[0m\u001b[0;34m(\u001b[0m\u001b[0mθ\u001b[0m\u001b[0;34m)\u001b[0m\u001b[0;34m]\u001b[0m\u001b[0;34m)\u001b[0m\u001b[0;34m\u001b[0m\u001b[0;34m\u001b[0m\u001b[0m\n\u001b[0m\u001b[1;32m     42\u001b[0m   \u001b[0;32mfor\u001b[0m \u001b[0mi\u001b[0m \u001b[0;32min\u001b[0m \u001b[0msample_pts\u001b[0m\u001b[0;34m.\u001b[0m\u001b[0mT\u001b[0m\u001b[0;34m:\u001b[0m\u001b[0;34m\u001b[0m\u001b[0;34m\u001b[0m\u001b[0m\n\u001b[1;32m     43\u001b[0m     \u001b[0mflag\u001b[0m\u001b[0;34m=\u001b[0m\u001b[0;32mTrue\u001b[0m\u001b[0;34m\u001b[0m\u001b[0;34m\u001b[0m\u001b[0m\n",
            "\u001b[0;31mValueError\u001b[0m: operands could not be broadcast together with shapes (2,) (30,) "
          ]
        }
      ]
    },
    {
      "cell_type": "code",
      "source": [
        "np.ones([3,3,3])*-1\n",
        "gridarray=[2,DesiredNumOfPoints]\n",
        "gridarray\n",
        "cell_grid =np.array([2,4])\n",
        "cell_grid\n",
        "Dimension=2\n",
        "[Dimension,DesiredNumOfPoints//Dimension]\n",
        "np.random.rand(1,2)\n",
        "np.random.randint(0,DesiredNumOfPoints)"
      ],
      "metadata": {
        "colab": {
          "base_uri": "https://localhost:8080/"
        },
        "id": "dwZhh1t13nlz",
        "outputId": "a16a7494-a29d-45b2-b4ce-5a2da75c14d8"
      },
      "execution_count": 96,
      "outputs": [
        {
          "output_type": "execute_result",
          "data": {
            "text/plain": [
              "6"
            ]
          },
          "metadata": {},
          "execution_count": 96
        }
      ]
    }
  ]
}