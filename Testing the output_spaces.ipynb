{
  "cells": [
    {
      "cell_type": "markdown",
      "metadata": {
        "id": "view-in-github",
        "colab_type": "text"
      },
      "source": [
        "<a href=\"https://colab.research.google.com/github/sureshnaidugolla/myrepo/blob/GP/Testing%20the%20output_spaces.ipynb\" target=\"_parent\"><img src=\"https://colab.research.google.com/assets/colab-badge.svg\" alt=\"Open In Colab\"/></a>"
      ]
    },
    {
      "cell_type": "markdown",
      "metadata": {
        "id": "sk_C6KgReqPB"
      },
      "source": [
        "# Import stuff\n",
        "\n",
        "because gpCAM requires an older version of numpy, be sure to restart the notebook after initial installation."
      ]
    },
    {
      "cell_type": "code",
      "execution_count": 1,
      "metadata": {
        "id": "S_DBjQPseHby"
      },
      "outputs": [],
      "source": [
        "import numpy as np\n",
        "import matplotlib.pyplot as plt\n",
        "from tqdm import tqdm\n",
        "\n",
        "try:\n",
        "    from gpcam.autonomous_experimenter import AutonomousExperimenterFvGP\n",
        "except:\n",
        "    !pip install gpcam==8.0.2\n",
        "    from gpcam.autonomous_experimenter import AutonomousExperimenterFvGP\n",
        "\n",
        "try:\n",
        "    import torch\n",
        "except:\n",
        "    !pip install torch\n",
        "    import torch\n",
        "\n",
        "### import custom module !! might be modified in the future !!\n",
        "try:\n",
        "    from gpcam_test_instrument import gpcam_test_instrument\n",
        "except:\n",
        "    !wget https://github.com/jcandane/StochasticPhysics/raw/main/gpcam_test_instrument.py\n",
        "    from gpcam_test_instrument import gpcam_test_instrument\n",
        "\n",
        "### import Noack's file on example kernels\n",
        "try:\n",
        "    from kernel_function import kernel_l2_single_task, kernel_l2_multi_task, kernel_l1, fvgp_kernel, non_stat_kernel_2d, symmetric_kernel, symmetric_kernel2, periodic_kernel_2d\n",
        "except:\n",
        "    !wget https://raw.githubusercontent.com/lbl-camera/gpCAM/master/examples/kernel_function.py\n",
        "    from kernel_function import kernel_l2_single_task, kernel_l2_multi_task, kernel_l1, fvgp_kernel, non_stat_kernel_2d, symmetric_kernel, symmetric_kernel2, periodic_kernel_2d"
      ]
    },
    {
      "cell_type": "markdown",
      "metadata": {
        "id": "BNFCv3sq0x60"
      },
      "source": [
        "# RCF for 5,10"
      ]
    },
    {
      "cell_type": "code",
      "execution_count": null,
      "metadata": {
        "id": "6SFl52yjjeT7"
      },
      "outputs": [],
      "source": [
        "\n",
        "input_space   = np.array([[ 0.0, 10.0],\n",
        "                          [ 0.0, 10.0],\n",
        "                          [ 0.0, 10.0],\n",
        "                          [ 0.0, 10.0],\n",
        "                          [ 0.0, 10.0]])\n",
        "\n",
        "#x=np.asarray([np.array([[ 0.0, 10.0]]),np.array([[ 0.0, 10.0]]),np.array([[ 0.0, 10.0]]),np.array([[ 0.0, 10.0]]),np.array([[ 0.0, 10.0]])]) its not needed\n",
        "\n",
        "\n",
        "\n",
        "import time\n",
        "number_of_points = np.logspace(1.0, 3.0, num=20, base=10, dtype=int)\n",
        "time_taken={} ## a dictionary storing the times as dict{ output_dim: { number_of_points: time_consumed } }\n",
        "for i in range(1,11):\n",
        "  f = gpcam_test_instrument(input_space, 15, D=i)\n",
        "  temp={}\n",
        "  for j in number_of_points:\n",
        "    my_experiment = AutonomousExperimenterFvGP(f.domain,\n",
        "                                              f.D, 1,\n",
        "                                              init_dataset_size=10,\n",
        "                                              instrument_function=f.test_instrumentt,\n",
        "                                              kernel_function = kernel_l2_single_task,\n",
        "                                              acquisition_function=\"variance\")\n",
        "    START = time.time()\n",
        "    my_experiment.train()\n",
        "    my_experiment.go(j)\n",
        "    temp[j]=time.time() - START\n",
        "    print(i,\"--\",j,\"--\",temp[j] )\n",
        "  time_taken[i]=temp\n",
        "\n",
        "\n"
      ]
    },
    {
      "cell_type": "code",
      "source": [],
      "metadata": {
        "id": "Jm69evcyGbKw"
      },
      "execution_count": null,
      "outputs": []
    },
    {
      "cell_type": "code",
      "source": [
        "\n",
        "input_space   = np.array([[ 0.0, 10.0],\n",
        "                          [ 0.0, 10.0],\n",
        "                          [ 0.0, 10.0],\n",
        "                          [ 0.0, 10.0],\n",
        "                          [ 0.0, 10.0]])\n",
        "\n",
        "\n",
        "import time\n",
        "number_of_points = np.logspace(1.5, 2.0, num=2, base=10, dtype=int)\n",
        "time_taken={} ## a dictionary storing the times as dict{ output_dim: { number_of_points: time_consumed } }\n",
        "f = gpcam_test_instrument(input_space, 145, D=100000)\n",
        "for j in number_of_points:\n",
        "  my_experiment = AutonomousExperimenterFvGP(f.domain,\n",
        "                                            f.D, 1,\n",
        "                                            init_dataset_size=10,\n",
        "                                            instrument_function=f.test_instrumentt,\n",
        "                                            kernel_function = kernel_l2_single_task,\n",
        "                                            acquisition_function=\"variance\")\n",
        "  START = time.time()\n",
        "  my_experiment.train()\n",
        "  my_experiment.go(j)\n",
        "  temp[j]=time.time() - START\n",
        "  print(i,\"--\",j,\"--\",temp[j] )\n",
        "time_taken[i]=temp\n",
        "\n",
        "\n"
      ],
      "metadata": {
        "id": "Yz2rQlBuF3or"
      },
      "execution_count": null,
      "outputs": []
    },
    {
      "cell_type": "code",
      "source": [
        "time_taken =[0.06949663162231445,0.2828025817871094,0.9768052101135254,1.658191442489624,0.8192753791809082,0.04544568061828613,0.0439910888671875,4.043833255767822\n",
        ",0.04265165328979492\n",
        ",0.043951988220214844\n",
        ",15.073752164840698\n",
        ",9.543031930923462\n",
        ",24.347216606140137\n",
        ",15.413974285125732\n",
        ",24.724576950073242\n",
        ",48.063135862350464\n",
        ",53.95262145996094\n",
        ",84.20009565353394\n",
        ",105.87860369682312\n",
        ",113.60126161575317\n",
        ",0.04034900665283203\n",
        ",0.5393931865692139\n",
        ",2.729071855545044\n",
        ",4.4600114822387695\n",
        ",5.741626977920532\n",
        ",10.00283694267273\n",
        ",10.307653188705444\n",
        ",18.859741687774658\n",
        ",18.53334617614746\n",
        ",25.794667959213257\n",
        ",43.7010862827301\n",
        ",26.040247678756714\n",
        ",65.9315357208252\n",
        ",101.93494606018066\n",
        ",88.14138460159302\n",
        ",91.19085097312927\n",
        ",0.12598061561584473\n",
        ",0.16046810150146484\n",
        ",308.19370794296265\n",
        ",197.9381926059723\n",
        ",0.0931849479675293\n",
        ",0.6192982196807861\n",
        ",3.827665328979492\n",
        ",0.23446154594421387\n",
        ", 7.7485175132751465\n",
        ",13.367026329040527\n",
        ",7.858846187591553\n",
        ",25.58539605140686\n",
        ",0.1648082733154297\n",
        ",32.24096989631653\n",
        ",0.12810802459716797\n",
        ",39.806995153427124\n",
        ",0.22728252410888672\n",
        ",69.05305576324463\n",
        ",164.78463220596313\n",
        ",198.98263812065125\n",
        ",0.13272762298583984\n",
        ",365.7639102935791\n",
        ",192.83122873306274\n",
        ",465.0751762390137\n",
        ",0.09996366500854492\n",
        ",0.8941934108734131\n",
        ",0.7620706558227539\n",
        ",0.17377114295959473\n",
        ",5.8853600025177\n",
        ",24.168981790542603\n",
        ",31.990904569625854\n",
        ",41.763277530670166\n",
        ",22.448647499084473\n",
        ",58.44696617126465\n",
        ",74.23201537132263\n",
        ",132.69095134735107\n",
        ",62.32384371757507\n",
        ",228.98757410049438\n",
        ",294.7581536769867\n",
        ",378.76584649086\n",
        ",303.1616401672363\n",
        ",525.8018460273743\n",
        ",792.1758451461792\n",
        ",1038.2844874858856\n",
        ",0.10160493850708008\n",
        ",1.6407785415649414\n",
        ",8.802293062210083\n",
        ",13.750759363174438\n",
        ",9.826539278030396\n",
        ",33.21306610107422\n",
        ",24.80715823173523\n",
        ",63.99449443817139\n",
        ",88.16990423202515\n",
        ",90.89225554466248\n",
        ",151.8992669582367\n",
        ",201.39512467384338\n",
        ",137.91279554367065\n",
        ",116.67618680000305\n",
        ",413.6264989376068\n",
        ",549.914121389389\n",
        ",721.7698950767517\n",
        ",929.744416475296\n",
        ",1181.3841009140015\n",
        ",1506.9817543029785\n",
        ",0.12134623527526855\n",
        ",0.1842942237854004\n",
        ",10.271746158599854\n",
        ",1.9140219688415527\n",
        ",28.842582941055298\n",
        ",42.72385621070862\n",
        ",60.425596952438354\n",
        ",60.30384802818298\n",
        ",46.527177572250366\n",
        ",97.62230491638184\n",
        ",159.707537651062\n",
        ",255.72566413879395\n",
        ",280.84330129623413\n",
        ",0.21537184715270996,518.9175369739532,718.4207382202148]\n",
        "\n",
        "\n",
        "number_of_points = np.logspace(1.0, 3.0, num=20, base=10, dtype=int)\n",
        "output_space=[i for i in range(1,11) ]\n",
        "\n",
        "#print(time_taken))\n",
        "print(number_of_points)\n",
        "print(output_space)"
      ],
      "metadata": {
        "colab": {
          "base_uri": "https://localhost:8080/"
        },
        "id": "92S5X0W3nidK",
        "outputId": "2f236c82-d850-4f24-a905-3073749f931a"
      },
      "execution_count": null,
      "outputs": [
        {
          "output_type": "stream",
          "name": "stdout",
          "text": [
            "[  10   12   16   20   26   33   42   54   69   88  112  143  183  233\n",
            "  297  379  483  615  784 1000]\n",
            "[1, 2, 3, 4, 5, 6, 7, 8, 9, 10]\n"
          ]
        }
      ]
    },
    {
      "cell_type": "code",
      "source": [
        "import matplotlib.pyplot as plt\n",
        "import numpy as np\n",
        "\n",
        "for i in range(10):\n",
        "  plt.plot()\n",
        "\n",
        "fig = plt.figure()\n",
        "ax = plt.axes(projection='3d')\n",
        "\n",
        "# defining all 3 axis\n",
        "z = output_space\n",
        "x = number_of_points[:10:]\n",
        "y = time_taken[:10:]\n",
        "\n",
        "# plotting\n",
        "ax.plot3D(x, y, z,)\n",
        "#ax.set_title('3D line plot geeks for geeks')\n",
        "plt.show()\n"
      ],
      "metadata": {
        "colab": {
          "base_uri": "https://localhost:8080/",
          "height": 409
        },
        "id": "FjNlNUX6ttVc",
        "outputId": "a1b56e3b-97a1-45ce-c701-0f075f5cdcd3"
      },
      "execution_count": null,
      "outputs": [
        {
          "output_type": "display_data",
          "data": {
            "text/plain": [
              "<Figure size 640x480 with 1 Axes>"
            ],
            "image/png": "[encoded data removed]"
          },
          "metadata": {}
        }
      ]
    },
    {
      "cell_type": "code",
      "execution_count": null,
      "metadata": {
        "colab": {
          "base_uri": "https://localhost:8080/"
        },
        "id": "ecKMPxWz95QP",
        "outputId": "279ec9ec-d54e-4bcf-d8d2-e24cb29c1ad1"
      },
      "outputs": [
        {
          "name": "stdout",
          "output_type": "stream",
          "text": [
            "10\n",
            "12\n",
            "16\n",
            "20\n",
            "26\n",
            "33\n",
            "42\n",
            "54\n",
            "69\n",
            "88\n",
            "112\n",
            "143\n",
            "183\n",
            "233\n",
            "297\n",
            "379\n",
            "483\n",
            "615\n",
            "784\n",
            "1000\n"
          ]
        }
      ],
      "source": [
        "import numpy as np\n",
        "number_of_points = np.logspace(1.0, 3.0, num=20, base=10, dtype=int)\n",
        "for i in number_of_points:\n",
        "  print(i)"
      ]
    },
    {
      "cell_type": "code",
      "execution_count": null,
      "metadata": {
        "colab": {
          "base_uri": "https://localhost:8080/"
        },
        "id": "ua0oD7LM2-Hm",
        "outputId": "08894962-adb9-4ec1-ba1e-31688fea44bf"
      },
      "outputs": [
        {
          "data": {
            "text/plain": [
              "10"
            ]
          },
          "execution_count": 28,
          "metadata": {},
          "output_type": "execute_result"
        }
      ],
      "source": [
        "\n",
        "my_experiment.data.dataset\n",
        "\n",
        "f.D"
      ]
    }
  ],
  "metadata": {
    "colab": {
      "provenance": [],
      "include_colab_link": true
    },
    "kernelspec": {
      "display_name": "Python 3",
      "name": "python3"
    },
    "language_info": {
      "name": "python"
    }
  },
  "nbformat": 4,
  "nbformat_minor": 0
}