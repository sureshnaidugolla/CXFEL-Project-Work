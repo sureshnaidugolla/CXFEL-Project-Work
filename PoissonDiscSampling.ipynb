{
  "nbformat": 4,
  "nbformat_minor": 0,
  "metadata": {
    "colab": {
      "provenance": [],
      "authorship_tag": "ABX9TyPlXuhRnyyiKR8DBiGXMMiJ",
      "include_colab_link": true
    },
    "kernelspec": {
      "name": "python3",
      "display_name": "Python 3"
    },
    "language_info": {
      "name": "python"
    }
  },
  "cells": [
    {
      "cell_type": "markdown",
      "metadata": {
        "id": "view-in-github",
        "colab_type": "text"
      },
      "source": [
        "<a href=\"https://colab.research.google.com/github/sureshnaidugolla/myrepo/blob/GP/PoissonDiscSampling.ipynb\" target=\"_parent\"><img src=\"https://colab.research.google.com/assets/colab-badge.svg\" alt=\"Open In Colab\"/></a>"
      ]
    },
    {
      "cell_type": "code",
      "execution_count": null,
      "metadata": {
        "id": "08Np5NNdxYQm"
      },
      "outputs": [],
      "source": [
        "import numpy as np\n",
        "a=np.random.rand(10,2)\n",
        "l=[]\n",
        "min_dist=0.000000001\n",
        "k=[]\n",
        "for i in range(len(a)):\n",
        "  for j in a:\n",
        "    print(a[i],j,type(a[i]),type(j))\n",
        "    if(np.linalg.norm(a[i]-j)<min_dist):\n",
        "      l.append(i)\n",
        "      break\n",
        "\n",
        "print(len(l))\n",
        "print(k)\n",
        "a=np.delete(a,l,0)\n",
        "print(a)\n"
      ]
    },
    {
      "cell_type": "code",
      "source": [
        "a=np.asarray([1,2])\n",
        "b=np.asarray([1,2])\n",
        "a.all()"
      ],
      "metadata": {
        "colab": {
          "base_uri": "https://localhost:8080/"
        },
        "id": "YP1OkSBiDDym",
        "outputId": "a880b84b-6972-4665-f339-bb4ea871e12f"
      },
      "execution_count": 2,
      "outputs": [
        {
          "output_type": "execute_result",
          "data": {
            "text/plain": [
              "True"
            ]
          },
          "metadata": {},
          "execution_count": 2
        }
      ]
    },
    {
      "cell_type": "code",
      "source": [
        "R_ix = np.random.rand(10,2) # points\n",
        "l    = 0.1 ## min allowed distance\n",
        "R_ix\n",
        "D_ij    = np.linalg.norm( R_ix[:,None,:] - R_ix[None,:,:], axis=2)\n",
        "mask_ij = ( (D_ij+np.eye(D_ij.shape[0])) < 0.1 )\n",
        "R_ix[ np.logical_not(np.any(mask_ij, axis=1)), :]"
      ],
      "metadata": {
        "id": "-rR2PhTL8HFJ"
      },
      "execution_count": null,
      "outputs": []
    },
    {
      "cell_type": "code",
      "source": [
        "R_ix[:,None,:]-R_ix[None,:]\n"
      ],
      "metadata": {
        "id": "L5gpK5wx9mCJ"
      },
      "execution_count": null,
      "outputs": []
    },
    {
      "cell_type": "code",
      "source": [
        "\n",
        "ar=np.random.rand(5,2)\n",
        "print(ar)\n",
        "ar=np.delete(ar,1,0)\n",
        "ar"
      ],
      "metadata": {
        "colab": {
          "base_uri": "https://localhost:8080/"
        },
        "id": "AGx7iItC3szX",
        "outputId": "c1b8a4f7-23e8-4f96-b3d4-c943fa69937c"
      },
      "execution_count": 5,
      "outputs": [
        {
          "output_type": "stream",
          "name": "stdout",
          "text": [
            "[[0.03575408 0.95058511]\n",
            " [0.72421289 0.92636644]\n",
            " [0.52464179 0.18318816]\n",
            " [0.13390937 0.77901863]\n",
            " [0.12899897 0.3601124 ]]\n"
          ]
        },
        {
          "output_type": "execute_result",
          "data": {
            "text/plain": [
              "array([[0.03575408, 0.95058511],\n",
              "       [0.52464179, 0.18318816],\n",
              "       [0.13390937, 0.77901863],\n",
              "       [0.12899897, 0.3601124 ]])"
            ]
          },
          "metadata": {},
          "execution_count": 5
        }
      ]
    },
    {
      "cell_type": "code",
      "source": [
        "import numpy as np\n",
        "s = np.random.poisson(5, 10000)"
      ],
      "metadata": {
        "id": "nxag2q_2yfFb"
      },
      "execution_count": 6,
      "outputs": []
    },
    {
      "cell_type": "code",
      "source": [
        "import matplotlib.pyplot as plt\n",
        "count, bins, ignored = plt.hist(s, 14, density=True)\n",
        "plt.show()"
      ],
      "metadata": {
        "id": "XJsPrFN0ygQt"
      },
      "execution_count": null,
      "outputs": []
    },
    {
      "cell_type": "markdown",
      "source": [
        "## poisson disc Sampling"
      ],
      "metadata": {
        "id": "9p6jbUyYVr6n"
      }
    },
    {
      "cell_type": "code",
      "source": [
        "import numpy as np\n",
        "from numpy import sin, cos\n",
        "import matplotlib.pyplot as plt\n",
        "\n",
        "π = np.pi\n",
        "np.random.seed(seed=156)\n",
        "\n",
        "######################################\n",
        "\n",
        "#### user defines\n",
        "x_center = 0.0\n",
        "y_center = 0.0\n",
        "N        = 30 ## number of points you want\n",
        "R        = 2.0 ## minimum separation\n",
        "center = np.array([0,0])\n",
        "################\n",
        "'''\n",
        "r = R * sqrt(random())\n",
        "theta = random() * 2 * PI\n",
        "\n",
        "x = centerX + r * cos(theta)\n",
        "y = centerY + r * sin(theta)\n",
        "'''\n",
        "\n",
        "###########\n",
        "\n",
        "r = R+np.random.rand(N)*R\n",
        "# In the above line we are finding the radial distance r from the center of the circle\n",
        "# we are taking a random number between [0,1] and then multiplying with R (min dist which is a radius of circle) and\n",
        "# adding R to make it R distance away from the point\n",
        "# basically finding a point between circles with radius R and 2R\n",
        "\n",
        "θ = 2*π*np.random.rand(N)\n",
        "# the same way we are trying to find the random angle fro the center of the circle\n",
        "# we are multiplying random value [0,1] by 2 * PI (which represents a full circle, or 360 degrees)\n",
        "# ensures that theta ranges from 0 to 2π radians (or 0 to 360 degrees), covering all possible directions around the circle.\n",
        "\n",
        "sample_pts = np.asarray([r*cos(θ), r*sin(θ)])\n",
        "\n",
        "#active_list=[]\n",
        "#active_list.append(sample_pts[0])\n",
        "\n",
        "#active_list=np.asarray([sample_pts[0][0],sample_pts[1][0]])\n",
        "#active_list=np.append(active_list,)\n",
        "#active_list.append(sample_pts[0])\n",
        "#print(type(active_list[0]))\n",
        "#print(sample_pts)\n",
        "active_list = []\n",
        "active_list.append(sample_pts.T[0])\n",
        "#active_list=np.array([sample_pts.T[0]])\n",
        "#print(active_list)\n",
        "#print(np.linalg.norm(active_list[0]-sample_pts.T[0]))\n",
        "\n",
        "for i in sample_pts.T:\n",
        "  #print(i)\n",
        "  flag=True\n",
        "  for j in active_list:\n",
        "    if(np.linalg.norm(j-i)<R):\n",
        "      flag=False\n",
        "      break\n",
        "  if(flag):\n",
        "    print(i,j)\n",
        "    #print(active_list)\n",
        "    #print(i)\n",
        "    #active_list=np.insert(active_list,np.asarray(i))\n",
        "    #active_list=np.concatenate((active_list[0],i),axis=0)\n",
        "    active_list.append(np.array(i))\n",
        "    print(active_list)\n",
        "\n",
        "circle1 = plt.Circle((x_center, y_center), R , color='r', fill=False)\n",
        "circle2 = plt.Circle((x_center, y_center), 2*R , color='r', fill=False)\n",
        "active_list=np.asarray(active_list)\n",
        "print(active_list.T)\n",
        "plt.scatter(x_center, y_center, color=\"r\")\n",
        "plt.scatter(active_list.T[0],active_list.T[1])\n",
        "plt.gca().add_patch(circle1)\n",
        "plt.gca().add_patch(circle2)\n",
        "plt.gca().set_aspect('equal')\n",
        "plt.show()\n"
      ],
      "metadata": {
        "colab": {
          "base_uri": "https://localhost:8080/",
          "height": 728
        },
        "id": "n4fQI8IH38p6",
        "outputId": "cc97659b-8b25-4407-c840-ca124a9ade7b"
      },
      "execution_count": 8,
      "outputs": [
        {
          "output_type": "stream",
          "name": "stdout",
          "text": [
            "[3.05331473 0.63182085] [-0.19652183 -2.61987863]\n",
            "[array([-0.19652183, -2.61987863]), array([3.05331473, 0.63182085])]\n",
            "[-1.56705129  1.78456551] [3.05331473 0.63182085]\n",
            "[array([-0.19652183, -2.61987863]), array([3.05331473, 0.63182085]), array([-1.56705129,  1.78456551])]\n",
            "[-2.95672815  0.29917491] [-1.56705129  1.78456551]\n",
            "[array([-0.19652183, -2.61987863]), array([3.05331473, 0.63182085]), array([-1.56705129,  1.78456551]), array([-2.95672815,  0.29917491])]\n",
            "[-2.78692921 -2.33620339] [-2.95672815  0.29917491]\n",
            "[array([-0.19652183, -2.61987863]), array([3.05331473, 0.63182085]), array([-1.56705129,  1.78456551]), array([-2.95672815,  0.29917491]), array([-2.78692921, -2.33620339])]\n",
            "[-0.09979268  3.64379822] [-2.78692921 -2.33620339]\n",
            "[array([-0.19652183, -2.61987863]), array([3.05331473, 0.63182085]), array([-1.56705129,  1.78456551]), array([-2.95672815,  0.29917491]), array([-2.78692921, -2.33620339]), array([-0.09979268,  3.64379822])]\n",
            "[ 2.95509619 -2.00168243] [-0.09979268  3.64379822]\n",
            "[array([-0.19652183, -2.61987863]), array([3.05331473, 0.63182085]), array([-1.56705129,  1.78456551]), array([-2.95672815,  0.29917491]), array([-2.78692921, -2.33620339]), array([-0.09979268,  3.64379822]), array([ 2.95509619, -2.00168243])]\n",
            "[[-0.19652183  3.05331473 -1.56705129 -2.95672815 -2.78692921 -0.09979268\n",
            "   2.95509619]\n",
            " [-2.61987863  0.63182085  1.78456551  0.29917491 -2.33620339  3.64379822\n",
            "  -2.00168243]]\n"
          ]
        },
        {
          "output_type": "display_data",
          "data": {
            "text/plain": [
              "<Figure size 640x480 with 1 Axes>"
            ],
            "image/png": "[encoded data removed]"
          },
          "metadata": {}
        }
      ]
    },
    {
      "cell_type": "code",
      "source": [
        "#print(r.shape,θ.shape)\n",
        "#i=np.random.rand(N)\n",
        "#print(i.shape)\n",
        "a=np.asarray([i*i,i*i])\n",
        "b=np.asarray([a.T[0]])\n",
        "print(b)\n",
        "print(a.T[1])\n",
        "b=np.concatenate((b,np.asarray([2,1])),axis=0)\n",
        "#b=np.append(b[0],a.T[1])\n",
        "print(b)"
      ],
      "metadata": {
        "colab": {
          "base_uri": "https://localhost:8080/",
          "height": 211
        },
        "id": "j6FDg-InPw8U",
        "outputId": "2035dc64-dfaa-4d2f-f1b4-4d6aed79737b"
      },
      "execution_count": 1,
      "outputs": [
        {
          "output_type": "error",
          "ename": "NameError",
          "evalue": "name 'np' is not defined",
          "traceback": [
            "\u001b[0;31m---------------------------------------------------------------------------\u001b[0m",
            "\u001b[0;31mNameError\u001b[0m                                 Traceback (most recent call last)",
            "\u001b[0;32m<ipython-input-1-7d77daacd2e2>\u001b[0m in \u001b[0;36m<cell line: 2>\u001b[0;34m()\u001b[0m\n\u001b[1;32m      1\u001b[0m \u001b[0;31m#print(r.shape,θ.shape)\u001b[0m\u001b[0;34m\u001b[0m\u001b[0;34m\u001b[0m\u001b[0m\n\u001b[0;32m----> 2\u001b[0;31m \u001b[0mi\u001b[0m\u001b[0;34m=\u001b[0m\u001b[0mnp\u001b[0m\u001b[0;34m.\u001b[0m\u001b[0mrandom\u001b[0m\u001b[0;34m.\u001b[0m\u001b[0mrand\u001b[0m\u001b[0;34m(\u001b[0m\u001b[0mN\u001b[0m\u001b[0;34m)\u001b[0m\u001b[0;34m\u001b[0m\u001b[0;34m\u001b[0m\u001b[0m\n\u001b[0m\u001b[1;32m      3\u001b[0m \u001b[0;31m#print(i.shape)\u001b[0m\u001b[0;34m\u001b[0m\u001b[0;34m\u001b[0m\u001b[0m\n\u001b[1;32m      4\u001b[0m \u001b[0ma\u001b[0m\u001b[0;34m=\u001b[0m\u001b[0mnp\u001b[0m\u001b[0;34m.\u001b[0m\u001b[0masarray\u001b[0m\u001b[0;34m(\u001b[0m\u001b[0;34m[\u001b[0m\u001b[0mi\u001b[0m\u001b[0;34m*\u001b[0m\u001b[0mi\u001b[0m\u001b[0;34m,\u001b[0m\u001b[0mi\u001b[0m\u001b[0;34m*\u001b[0m\u001b[0mi\u001b[0m\u001b[0;34m]\u001b[0m\u001b[0;34m)\u001b[0m\u001b[0;34m\u001b[0m\u001b[0;34m\u001b[0m\u001b[0m\n\u001b[1;32m      5\u001b[0m \u001b[0mb\u001b[0m\u001b[0;34m=\u001b[0m\u001b[0mnp\u001b[0m\u001b[0;34m.\u001b[0m\u001b[0masarray\u001b[0m\u001b[0;34m(\u001b[0m\u001b[0;34m[\u001b[0m\u001b[0ma\u001b[0m\u001b[0;34m.\u001b[0m\u001b[0mT\u001b[0m\u001b[0;34m[\u001b[0m\u001b[0;36m0\u001b[0m\u001b[0;34m]\u001b[0m\u001b[0;34m]\u001b[0m\u001b[0;34m)\u001b[0m\u001b[0;34m\u001b[0m\u001b[0;34m\u001b[0m\u001b[0m\n",
            "\u001b[0;31mNameError\u001b[0m: name 'np' is not defined"
          ]
        }
      ]
    },
    {
      "cell_type": "code",
      "source": [
        "class Point:\n",
        "  def __init__(self,x,y):\n",
        "    self.x=x\n",
        "    self.y=y\n",
        "\n",
        "import math\n",
        "r= 10\n",
        "k=30\n",
        "\n",
        "grid=[]\n",
        "w=r/math.sqrt(2)\n",
        "width=100\n",
        "height=150\n",
        "\n",
        "#Step 0\n",
        "cols=width/w\n",
        "rows=height/w\n",
        "\n",
        "for i in range(cols*rows):\n",
        "  grid[i]=-1\n",
        "\n",
        "#Step 1\n",
        "\n",
        "x=math.random(width)\n",
        "y=math.random(height)\n",
        "i=math.floor(x/w)\n",
        "j=math.floor(y/w)\n",
        "\n",
        "pos=Point(x,y)\n",
        "active=[]\n",
        "#column + row times width\n",
        "grid[i+j*cols]=pos\n",
        "active.append(pos)\n",
        "\n"
      ],
      "metadata": {
        "id": "yo6Y4q8VW_J7"
      },
      "execution_count": 8,
      "outputs": []
    },
    {
      "cell_type": "markdown",
      "source": [
        "## Generating the random number of points"
      ],
      "metadata": {
        "id": "vWniqAtKi1K0"
      }
    },
    {
      "cell_type": "code",
      "source": [
        "import numpy as np\n",
        "import math\n",
        "#random.randint(low, high=None, size=None, dtype=int)\n",
        "\n",
        "#random.randint(low, high=None, size=None, dtype=int)\n",
        "#xn=np.random.randint(low=0,high=10,size=100)\n",
        "#yn=np.random.randint(low=0,high=10,size=100)\n",
        "#points=[[xn[i],yn[i]] for i in range(100)]\n",
        "\n",
        "min_Dist=0.2\n",
        "\n",
        "xn=np.random.randn(100)\n",
        "yn=np.random.randn(100)\n",
        "points=[[abs(xn[i]),abs(yn[i])] for i in range(100)]\n",
        "rng = np.random.default_rng()\n",
        "x=rng.random(size=(10,))\n",
        "y=rng.random(size=10,)\n",
        "generatedPoints=[]\n",
        "generatedPoints.append(points[0])\n",
        "points.pop(0)\n",
        "\n",
        "for i in points:\n",
        "  flag=True\n",
        "  for j in generatedPoints:\n",
        "    if(math.dist(i,j)<min_Dist):\n",
        "      flag=False\n",
        "  if(flag):\n",
        "    generatedPoints.append(i)\n",
        "\n",
        "len(generatedPoints)"
      ],
      "metadata": {
        "colab": {
          "base_uri": "https://localhost:8080/"
        },
        "id": "jJByQPxZYw7C",
        "outputId": "6eb27981-820f-4fa0-b1f4-6d5a2f373374"
      },
      "execution_count": 1,
      "outputs": [
        {
          "output_type": "execute_result",
          "data": {
            "text/plain": [
              "41"
            ]
          },
          "metadata": {},
          "execution_count": 1
        }
      ]
    },
    {
      "cell_type": "markdown",
      "source": [
        "## plot after generating the random points with the given range"
      ],
      "metadata": {
        "id": "CG9kkmuNiqpX"
      }
    },
    {
      "cell_type": "code",
      "source": [
        "from matplotlib import pyplot as pt\n",
        "#pt.scatter(x,y)\n",
        "\n",
        "pt.scatter(xn,yn)"
      ],
      "metadata": {
        "colab": {
          "base_uri": "https://localhost:8080/",
          "height": 447
        },
        "id": "XfV_IpddhgD_",
        "outputId": "96a4a59c-2416-4692-c8b9-8a866bf082bc"
      },
      "execution_count": 2,
      "outputs": [
        {
          "output_type": "execute_result",
          "data": {
            "text/plain": [
              "<matplotlib.collections.PathCollection at 0x7e3fada366b0>"
            ]
          },
          "metadata": {},
          "execution_count": 2
        },
        {
          "output_type": "display_data",
          "data": {
            "text/plain": [
              "<Figure size 640x480 with 1 Axes>"
            ],
            "image/png": "[encoded data removed]"
          },
          "metadata": {}
        }
      ]
    },
    {
      "cell_type": "markdown",
      "source": [
        "## plots after maximizing the distance between points that is deleting the closest points"
      ],
      "metadata": {
        "id": "sp21V7bBicuA"
      }
    },
    {
      "cell_type": "code",
      "source": [
        "from matplotlib import pyplot as pt\n",
        "x=[]\n",
        "for i in generatedPoints:\n",
        "  x.append(i[0])\n",
        "y=[]\n",
        "for i in generatedPoints:\n",
        "  y.append(i[1])\n",
        "pt.scatter(x,y)"
      ],
      "metadata": {
        "colab": {
          "base_uri": "https://localhost:8080/",
          "height": 447
        },
        "id": "sL9osDFFZXR1",
        "outputId": "ef170226-10c2-4150-9d02-4f8ab85dd9b0"
      },
      "execution_count": 3,
      "outputs": [
        {
          "output_type": "execute_result",
          "data": {
            "text/plain": [
              "<matplotlib.collections.PathCollection at 0x7e3f967607f0>"
            ]
          },
          "metadata": {},
          "execution_count": 3
        },
        {
          "output_type": "display_data",
          "data": {
            "text/plain": [
              "<Figure size 640x480 with 1 Axes>"
            ],
            "image/png": "[encoded data removed]"
          },
          "metadata": {}
        }
      ]
    }
  ]
}