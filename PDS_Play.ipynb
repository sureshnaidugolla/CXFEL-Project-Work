{
  "nbformat": 4,
  "nbformat_minor": 0,
  "metadata": {
    "colab": {
      "provenance": [],
      "authorship_tag": "ABX9TyMEHVbORRzG1pRCIT0BSb/B",
      "include_colab_link": true
    },
    "kernelspec": {
      "name": "python3",
      "display_name": "Python 3"
    },
    "language_info": {
      "name": "python"
    }
  },
  "cells": [
    {
      "cell_type": "markdown",
      "metadata": {
        "id": "view-in-github",
        "colab_type": "text"
      },
      "source": [
        "<a href=\"https://colab.research.google.com/github/sureshnaidugolla/myrepo/blob/main/LDS_Play.ipynb\" target=\"_parent\"><img src=\"https://colab.research.google.com/assets/colab-badge.svg\" alt=\"Open In Colab\"/></a>"
      ]
    },
    {
      "cell_type": "code",
      "execution_count": 102,
      "metadata": {
        "colab": {
          "base_uri": "https://localhost:8080/",
          "height": 315
        },
        "id": "08Np5NNdxYQm",
        "outputId": "8a9a5fa6-73ab-4042-fac6-aa1a9ee79438"
      },
      "outputs": [
        {
          "output_type": "error",
          "ename": "IndexError",
          "evalue": "arrays used as indices must be of integer (or boolean) type",
          "traceback": [
            "\u001b[0;31m---------------------------------------------------------------------------\u001b[0m",
            "\u001b[0;31mIndexError\u001b[0m                                Traceback (most recent call last)",
            "\u001b[0;32m<ipython-input-102-0acc08801728>\u001b[0m in \u001b[0;36m<cell line: 10>\u001b[0;34m()\u001b[0m\n\u001b[1;32m      9\u001b[0m \u001b[0;34m\u001b[0m\u001b[0m\n\u001b[1;32m     10\u001b[0m \u001b[0;32mfor\u001b[0m \u001b[0mi\u001b[0m \u001b[0;32min\u001b[0m \u001b[0ml\u001b[0m\u001b[0;34m:\u001b[0m\u001b[0;34m\u001b[0m\u001b[0;34m\u001b[0m\u001b[0m\n\u001b[0;32m---> 11\u001b[0;31m   \u001b[0ma\u001b[0m\u001b[0;34m=\u001b[0m\u001b[0mnp\u001b[0m\u001b[0;34m.\u001b[0m\u001b[0mdelete\u001b[0m\u001b[0;34m(\u001b[0m\u001b[0ma\u001b[0m\u001b[0;34m,\u001b[0m\u001b[0mi\u001b[0m\u001b[0;34m)\u001b[0m\u001b[0;34m\u001b[0m\u001b[0;34m\u001b[0m\u001b[0m\n\u001b[0m",
            "\u001b[0;32m/usr/local/lib/python3.10/dist-packages/numpy/lib/function_base.py\u001b[0m in \u001b[0;36mdelete\u001b[0;34m(arr, obj, axis)\u001b[0m\n\u001b[1;32m   5351\u001b[0m         \u001b[0;32melse\u001b[0m\u001b[0;34m:\u001b[0m\u001b[0;34m\u001b[0m\u001b[0;34m\u001b[0m\u001b[0m\n\u001b[1;32m   5352\u001b[0m             \u001b[0mkeep\u001b[0m \u001b[0;34m=\u001b[0m \u001b[0mones\u001b[0m\u001b[0;34m(\u001b[0m\u001b[0mN\u001b[0m\u001b[0;34m,\u001b[0m \u001b[0mdtype\u001b[0m\u001b[0;34m=\u001b[0m\u001b[0mbool\u001b[0m\u001b[0;34m)\u001b[0m\u001b[0;34m\u001b[0m\u001b[0;34m\u001b[0m\u001b[0m\n\u001b[0;32m-> 5353\u001b[0;31m             \u001b[0mkeep\u001b[0m\u001b[0;34m[\u001b[0m\u001b[0mobj\u001b[0m\u001b[0;34m,\u001b[0m\u001b[0;34m]\u001b[0m \u001b[0;34m=\u001b[0m \u001b[0;32mFalse\u001b[0m\u001b[0;34m\u001b[0m\u001b[0;34m\u001b[0m\u001b[0m\n\u001b[0m\u001b[1;32m   5354\u001b[0m \u001b[0;34m\u001b[0m\u001b[0m\n\u001b[1;32m   5355\u001b[0m         \u001b[0mslobj\u001b[0m\u001b[0;34m[\u001b[0m\u001b[0maxis\u001b[0m\u001b[0;34m]\u001b[0m \u001b[0;34m=\u001b[0m \u001b[0mkeep\u001b[0m\u001b[0;34m\u001b[0m\u001b[0;34m\u001b[0m\u001b[0m\n",
            "\u001b[0;31mIndexError\u001b[0m: arrays used as indices must be of integer (or boolean) type"
          ]
        }
      ],
      "source": [
        "import numpy as np\n",
        "a=np.random.rand(10,2)\n",
        "l=[]\n",
        "min_dist=0.1\n",
        "for i in a:\n",
        "  l.append(False)\n",
        "  for j in a:\n",
        "    if(np.linalg.norm(i-j)<min_dist):\n",
        "\n",
        "\n",
        "for i in range(l):\n",
        "  a=np.delete(a,i)"
      ]
    },
    {
      "cell_type": "code",
      "source": [
        "R_ix = np.random.rand(10,2) # points\n",
        "l    = 0.1 ## min allowed distance\n",
        "R_ix\n",
        "D_ij    = np.linalg.norm( R_ix[:,None,:] - R_ix[None,:,:], axis=2)\n",
        "mask_ij = ( (D_ij+np.eye(D_ij.shape[0])) < 0.1 )\n",
        "R_ix[ np.logical_not(np.any(mask_ij, axis=1)), :]"
      ],
      "metadata": {
        "colab": {
          "base_uri": "https://localhost:8080/"
        },
        "id": "-rR2PhTL8HFJ",
        "outputId": "c79e50f2-9d29-4deb-a4d5-61385d673d81"
      },
      "execution_count": 87,
      "outputs": [
        {
          "output_type": "execute_result",
          "data": {
            "text/plain": [
              "array([[0.03785187, 0.78386967],\n",
              "       [0.59383646, 0.71938553],\n",
              "       [0.29565225, 0.4641566 ],\n",
              "       [0.73073221, 0.61748397],\n",
              "       [0.45705337, 0.86999383],\n",
              "       [0.74458006, 0.10589261],\n",
              "       [0.95439374, 0.75974845],\n",
              "       [0.04836466, 0.18744738],\n",
              "       [0.4986656 , 0.77606099],\n",
              "       [0.36943666, 0.57365709]])"
            ]
          },
          "metadata": {},
          "execution_count": 87
        }
      ]
    },
    {
      "cell_type": "code",
      "source": [
        "R_ix[:,None,:]-R_ix[None,:]\n"
      ],
      "metadata": {
        "colab": {
          "base_uri": "https://localhost:8080/"
        },
        "id": "L5gpK5wx9mCJ",
        "outputId": "7780344c-b8c9-4732-f753-811f8c74cf42"
      },
      "execution_count": 94,
      "outputs": [
        {
          "output_type": "execute_result",
          "data": {
            "text/plain": [
              "array([[[ 0.        ,  0.        ],\n",
              "        [-0.55598459,  0.06448414],\n",
              "        [-0.25780038,  0.31971307],\n",
              "        [-0.69288034,  0.1663857 ],\n",
              "        [-0.4192015 , -0.08612416],\n",
              "        [-0.70672819,  0.67797706],\n",
              "        [-0.91654187,  0.02412122],\n",
              "        [-0.01051279,  0.59642229],\n",
              "        [-0.46081373,  0.00780868],\n",
              "        [-0.33158479,  0.21021258]],\n",
              "\n",
              "       [[ 0.55598459, -0.06448414],\n",
              "        [ 0.        ,  0.        ],\n",
              "        [ 0.29818421,  0.25522893],\n",
              "        [-0.13689575,  0.10190156],\n",
              "        [ 0.13678309, -0.1506083 ],\n",
              "        [-0.1507436 ,  0.61349292],\n",
              "        [-0.36055728, -0.04036292],\n",
              "        [ 0.5454718 ,  0.53193815],\n",
              "        [ 0.09517086, -0.05667547],\n",
              "        [ 0.2243998 ,  0.14572844]],\n",
              "\n",
              "       [[ 0.25780038, -0.31971307],\n",
              "        [-0.29818421, -0.25522893],\n",
              "        [ 0.        ,  0.        ],\n",
              "        [-0.43507996, -0.15332737],\n",
              "        [-0.16140112, -0.40583723],\n",
              "        [-0.44892782,  0.358264  ],\n",
              "        [-0.65874149, -0.29559184],\n",
              "        [ 0.24728758,  0.27670922],\n",
              "        [-0.20301336, -0.31190439],\n",
              "        [-0.07378441, -0.10950049]],\n",
              "\n",
              "       [[ 0.69288034, -0.1663857 ],\n",
              "        [ 0.13689575, -0.10190156],\n",
              "        [ 0.43507996,  0.15332737],\n",
              "        [ 0.        ,  0.        ],\n",
              "        [ 0.27367884, -0.25250986],\n",
              "        [-0.01384786,  0.51159136],\n",
              "        [-0.22366153, -0.14226448],\n",
              "        [ 0.68236755,  0.43003659],\n",
              "        [ 0.2320666 , -0.15857703],\n",
              "        [ 0.36129555,  0.04382688]],\n",
              "\n",
              "       [[ 0.4192015 ,  0.08612416],\n",
              "        [-0.13678309,  0.1506083 ],\n",
              "        [ 0.16140112,  0.40583723],\n",
              "        [-0.27367884,  0.25250986],\n",
              "        [ 0.        ,  0.        ],\n",
              "        [-0.28752669,  0.76410122],\n",
              "        [-0.49734037,  0.11024538],\n",
              "        [ 0.40868871,  0.68254645],\n",
              "        [-0.04161223,  0.09393284],\n",
              "        [ 0.08761671,  0.29633674]],\n",
              "\n",
              "       [[ 0.70672819, -0.67797706],\n",
              "        [ 0.1507436 , -0.61349292],\n",
              "        [ 0.44892782, -0.358264  ],\n",
              "        [ 0.01384786, -0.51159136],\n",
              "        [ 0.28752669, -0.76410122],\n",
              "        [ 0.        ,  0.        ],\n",
              "        [-0.20981368, -0.65385584],\n",
              "        [ 0.6962154 , -0.08155478],\n",
              "        [ 0.24591446, -0.67016839],\n",
              "        [ 0.3751434 , -0.46776449]],\n",
              "\n",
              "       [[ 0.91654187, -0.02412122],\n",
              "        [ 0.36055728,  0.04036292],\n",
              "        [ 0.65874149,  0.29559184],\n",
              "        [ 0.22366153,  0.14226448],\n",
              "        [ 0.49734037, -0.11024538],\n",
              "        [ 0.20981368,  0.65385584],\n",
              "        [ 0.        ,  0.        ],\n",
              "        [ 0.90602908,  0.57230106],\n",
              "        [ 0.45572813, -0.01631255],\n",
              "        [ 0.58495708,  0.18609135]],\n",
              "\n",
              "       [[ 0.01051279, -0.59642229],\n",
              "        [-0.5454718 , -0.53193815],\n",
              "        [-0.24728758, -0.27670922],\n",
              "        [-0.68236755, -0.43003659],\n",
              "        [-0.40868871, -0.68254645],\n",
              "        [-0.6962154 ,  0.08155478],\n",
              "        [-0.90602908, -0.57230106],\n",
              "        [ 0.        ,  0.        ],\n",
              "        [-0.45030094, -0.58861361],\n",
              "        [-0.321072  , -0.38620971]],\n",
              "\n",
              "       [[ 0.46081373, -0.00780868],\n",
              "        [-0.09517086,  0.05667547],\n",
              "        [ 0.20301336,  0.31190439],\n",
              "        [-0.2320666 ,  0.15857703],\n",
              "        [ 0.04161223, -0.09393284],\n",
              "        [-0.24591446,  0.67016839],\n",
              "        [-0.45572813,  0.01631255],\n",
              "        [ 0.45030094,  0.58861361],\n",
              "        [ 0.        ,  0.        ],\n",
              "        [ 0.12922894,  0.2024039 ]],\n",
              "\n",
              "       [[ 0.33158479, -0.21021258],\n",
              "        [-0.2243998 , -0.14572844],\n",
              "        [ 0.07378441,  0.10950049],\n",
              "        [-0.36129555, -0.04382688],\n",
              "        [-0.08761671, -0.29633674],\n",
              "        [-0.3751434 ,  0.46776449],\n",
              "        [-0.58495708, -0.18609135],\n",
              "        [ 0.321072  ,  0.38620971],\n",
              "        [-0.12922894, -0.2024039 ],\n",
              "        [ 0.        ,  0.        ]]])"
            ]
          },
          "metadata": {},
          "execution_count": 94
        }
      ]
    },
    {
      "cell_type": "code",
      "source": [
        "\n",
        "ar=np.random.rand(5,2)\n",
        "print(ar)\n",
        "ar=np.delete(ar,1,0)\n",
        "ar"
      ],
      "metadata": {
        "colab": {
          "base_uri": "https://localhost:8080/"
        },
        "id": "AGx7iItC3szX",
        "outputId": "3b9672d9-72e4-4745-e13c-77e65ab75b09"
      },
      "execution_count": 53,
      "outputs": [
        {
          "output_type": "stream",
          "name": "stdout",
          "text": [
            "[[0.67849118 0.63167644]\n",
            " [0.76116294 0.71900004]\n",
            " [0.55222264 0.17262453]\n",
            " [0.77702499 0.37085396]\n",
            " [0.33329852 0.1804725 ]]\n"
          ]
        },
        {
          "output_type": "execute_result",
          "data": {
            "text/plain": [
              "array([[0.67849118, 0.63167644],\n",
              "       [0.55222264, 0.17262453],\n",
              "       [0.77702499, 0.37085396],\n",
              "       [0.33329852, 0.1804725 ]])"
            ]
          },
          "metadata": {},
          "execution_count": 53
        }
      ]
    },
    {
      "cell_type": "code",
      "source": [
        "import numpy as np\n",
        "s = np.random.poisson(5, 10000)"
      ],
      "metadata": {
        "id": "nxag2q_2yfFb"
      },
      "execution_count": 22,
      "outputs": []
    },
    {
      "cell_type": "code",
      "source": [
        "import matplotlib.pyplot as plt\n",
        "count, bins, ignored = plt.hist(s, 14, density=True)\n",
        "plt.show()"
      ],
      "metadata": {
        "colab": {
          "base_uri": "https://localhost:8080/",
          "height": 430
        },
        "id": "XJsPrFN0ygQt",
        "outputId": "a9b4e221-88e2-41dc-9d30-feb7c4ece8a8"
      },
      "execution_count": 23,
      "outputs": [
        {
          "output_type": "display_data",
          "data": {
            "text/plain": [
              "<Figure size 640x480 with 1 Axes>"
            ],
            "image/png": "[encoded data removed]"
          },
          "metadata": {}
        }
      ]
    }
  ]
}
