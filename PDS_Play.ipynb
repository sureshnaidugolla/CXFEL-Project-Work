{
  "cells": [
    {
      "cell_type": "markdown",
      "metadata": {
        "id": "view-in-github",
        "colab_type": "text"
      },
      "source": [
        "<a href=\"https://colab.research.google.com/github/sureshnaidugolla/myrepo/blob/GP/PDS_Play.ipynb\" target=\"_parent\"><img src=\"https://colab.research.google.com/assets/colab-badge.svg\" alt=\"Open In Colab\"/></a>"
      ]
    },
    {
      "cell_type": "code",
      "execution_count": null,
      "metadata": {
        "id": "08Np5NNdxYQm"
      },
      "outputs": [],
      "source": [
        "import numpy as np\n",
        "a=np.random.rand(10,2)\n",
        "l=[]\n",
        "min_dist=0.000000001\n",
        "k=[]\n",
        "for i in range(len(a)):\n",
        "  for j in a:\n",
        "    print(a[i],j,type(a[i]),type(j))\n",
        "    if(np.linalg.norm(a[i]-j)<min_dist):\n",
        "      l.append(i)\n",
        "      break\n",
        "\n",
        "print(len(l))\n",
        "print(k)\n",
        "a=np.delete(a,l,0)\n",
        "print(a)\n"
      ]
    },
    {
      "cell_type": "code",
      "execution_count": null,
      "metadata": {
        "colab": {
          "base_uri": "https://localhost:8080/"
        },
        "id": "YP1OkSBiDDym",
        "outputId": "a880b84b-6972-4665-f339-bb4ea871e12f"
      },
      "outputs": [
        {
          "data": {
            "text/plain": [
              "True"
            ]
          },
          "execution_count": 2,
          "metadata": {},
          "output_type": "execute_result"
        }
      ],
      "source": [
        "a=np.asarray([1,2])\n",
        "b=np.asarray([1,2])\n",
        "a.all()"
      ]
    },
    {
      "cell_type": "code",
      "execution_count": null,
      "metadata": {
        "id": "-rR2PhTL8HFJ"
      },
      "outputs": [],
      "source": [
        "R_ix = np.random.rand(10,2) # points\n",
        "l    = 0.1 ## min allowed distance\n",
        "R_ix\n",
        "D_ij    = np.linalg.norm( R_ix[:,None,:] - R_ix[None,:,:], axis=2)\n",
        "mask_ij = ( (D_ij+np.eye(D_ij.shape[0])) < 0.1 )\n",
        "R_ix[ np.logical_not(np.any(mask_ij, axis=1)), :]"
      ]
    },
    {
      "cell_type": "code",
      "execution_count": null,
      "metadata": {
        "id": "L5gpK5wx9mCJ"
      },
      "outputs": [],
      "source": [
        "R_ix[:,None,:]-R_ix[None,:]\n"
      ]
    },
    {
      "cell_type": "code",
      "execution_count": null,
      "metadata": {
        "colab": {
          "base_uri": "https://localhost:8080/"
        },
        "id": "AGx7iItC3szX",
        "outputId": "c1b8a4f7-23e8-4f96-b3d4-c943fa69937c"
      },
      "outputs": [
        {
          "name": "stdout",
          "output_type": "stream",
          "text": [
            "[[0.03575408 0.95058511]\n",
            " [0.72421289 0.92636644]\n",
            " [0.52464179 0.18318816]\n",
            " [0.13390937 0.77901863]\n",
            " [0.12899897 0.3601124 ]]\n"
          ]
        },
        {
          "data": {
            "text/plain": [
              "array([[0.03575408, 0.95058511],\n",
              "       [0.52464179, 0.18318816],\n",
              "       [0.13390937, 0.77901863],\n",
              "       [0.12899897, 0.3601124 ]])"
            ]
          },
          "execution_count": 5,
          "metadata": {},
          "output_type": "execute_result"
        }
      ],
      "source": [
        "\n",
        "ar=np.random.rand(5,2)\n",
        "print(ar)\n",
        "ar=np.delete(ar,1,0)\n",
        "ar"
      ]
    },
    {
      "cell_type": "code",
      "execution_count": null,
      "metadata": {
        "id": "nxag2q_2yfFb"
      },
      "outputs": [],
      "source": [
        "import numpy as np\n",
        "s = np.random.poisson(5, 10000)"
      ]
    },
    {
      "cell_type": "code",
      "execution_count": null,
      "metadata": {
        "id": "XJsPrFN0ygQt"
      },
      "outputs": [],
      "source": [
        "import matplotlib.pyplot as plt\n",
        "count, bins, ignored = plt.hist(s, 14, density=True)\n",
        "plt.show()"
      ]
    },
    {
      "cell_type": "markdown",
      "metadata": {
        "id": "9p6jbUyYVr6n"
      },
      "source": [
        "## poisson disc Sampling"
      ]
    },
    {
      "cell_type": "code",
      "execution_count": 64,
      "metadata": {
        "colab": {
          "base_uri": "https://localhost:8080/",
          "height": 467
        },
        "id": "n4fQI8IH38p6",
        "outputId": "4d8854e7-5283-4cd8-c6c7-30deae116a18"
      },
      "outputs": [
        {
          "output_type": "stream",
          "name": "stdout",
          "text": [
            "77 [array([0, 0]), array([-0.77981543,  0.66054833]), array([-0.46509649, -1.09953581]), array([ 0.0679153 , -2.99167302]), array([ 0.27234577, -4.0226135 ]), array([ 1.76131463, -4.17000227]), array([ 2.77796409, -3.90460645]), array([ 2.59408292, -5.0592872 ]), array([ 4.37003701, -5.18756828]), array([ 3.70668232, -6.01663839]), array([ 3.16794534, -7.06101117]), array([ 4.87846311, -6.92032271]), array([ 5.40648961, -5.950639  ]), array([ 7.20430789, -5.83107304]), array([ 8.33780824, -4.82349978]), array([ 9.00761739, -3.76613215]), array([ 9.86986749, -3.13252918]), array([10.70400156, -2.35363977]), array([10.34894101, -1.37261629]), array([11.72299161, -0.85305294]), array([12.66685095, -1.4903967 ]), array([14.58229366, -1.16922865]), array([13.43111554, -0.7554405 ]), array([12.06541157,  0.39987339]), array([11.54840811,  1.26862428]), array([13.2395167 ,  1.24139742]), array([14.60246314,  1.85727049]), array([16.0887858 ,  0.70634328]), array([16.05832164,  1.99336768]), array([17.37731321,  3.47195311]), array([17.14262862,  4.85297222]), array([15.69138948,  4.4107769 ]), array([15.46845044,  6.07882623]), array([14.88168027,  7.49528725]), array([16.51564617,  7.43846449]), array([17.78994583,  7.10329589]), array([19.39850633,  6.15591738]), array([20.16746844,  7.23020173]), array([20.54733532,  5.91924989]), array([21.52716241,  4.9647334 ]), array([20.34581005,  3.93028587]), array([21.94572678,  2.84809902]), array([22.77491492,  1.16179194]), array([22.29000174, -0.08164982]), array([ 2.35851469e+01, -2.20269787e-02]), array([23.73382619, -1.57182521]), array([22.19272254, -1.31398887]), array([21.00215323, -0.3131361 ]), array([20.38762901,  0.99305737]), array([19.537987 ,  1.5206914]), array([19.70675843,  0.06630588]), array([18.31749011,  0.46482089]), array([18.20450269, -1.01732494]), array([16.75955224, -2.18263515]), array([15.52439992, -3.59870807]), array([17.4012612 , -4.22682105]), array([18.38587395, -3.98608148]), array([20.002007  , -4.51689384]), array([18.63730876, -5.1007093 ]), array([16.86404439, -5.99839554]), array([15.91079211, -5.20872904]), array([15.69392401, -6.21540452]), array([15.26004736, -7.24494004]), array([14.40232444, -6.42090614]), array([13.29253033, -7.59924326]), array([12.89347017, -9.26126723]), array([14.32669102, -9.56145817]), array([14.28858582, -7.77521345]), array([13.36888727, -6.44455638]), array([14.32103786, -5.28024782]), array([13.21699289, -5.24333518]), array([13.8384407 , -4.37635889]), array([14.25147758, -3.02359733]), array([15.32022186, -1.99254405]), array([16.79225394, -1.06008451]), array([15.76845716, -0.37174273]), array([14.12569665,  0.30958785])]\n"
          ]
        },
        {
          "output_type": "display_data",
          "data": {
            "text/plain": [
              "<Figure size 640x480 with 1 Axes>"
            ],
            "image/png": "[encoded data removed]"
          },
          "metadata": {}
        }
      ],
      "source": [
        "import numpy as np\n",
        "from numpy import sin, cos\n",
        "import matplotlib.pyplot as plt\n",
        "import time\n",
        "\n",
        "π = np.pi\n",
        "\n",
        "######################################\n",
        "\n",
        "#### user defines\n",
        "x_center = 0.0\n",
        "y_center = 0.0\n",
        "N        = 30 ## num of random points we generate\n",
        "R        = 1.0 ## minimum separation\n",
        "center = np.array([0,0])\n",
        "DesiredNumOfPoints=100 ## number of points to be sampled\n",
        "\n",
        "#######################################\n",
        "\n",
        "#fig, axes = plt.subplots(int(DesiredNumOfPoints/2), int(DesiredNumOfPoints/2))\n",
        "\n",
        "def draw(active_list,x_center,y_center):\n",
        "  active_list=np.asarray(active_list)\n",
        "  #axes[axisx,axisy].plot(active_list.T[0],active_list.T[1])\n",
        "  circle1 = plt.Circle((x_center, y_center), R , color='r', fill=False)\n",
        "  circle2 = plt.Circle((x_center, y_center), 2*R , color='r', fill=False)\n",
        "  plt.scatter(active_list.T[0],active_list.T[1])\n",
        "  plt.gca().add_patch(circle1)\n",
        "  plt.gca().add_patch(circle2)\n",
        "  plt.gca().set_aspect('equal')\n",
        "  for xy in zip(active_list.T[0], active_list.T[1]):\n",
        "   plt.annotate('(%.2f, %.2f)' % xy, xy=xy)\n",
        "  plt.show()\n",
        "\n",
        "#############################################\n",
        "\n",
        "# In the above line we are finding the radial distance r from the center of the circle\n",
        "# we are taking a random number between [0,1] and then multiplying with R (min dist which is a radius of circle) and\n",
        "# adding R to make it R distance away from the point\n",
        "# basically finding a point between circles with radius R and 2R\n",
        "\n",
        "\n",
        "# the same way we are trying to find the random angle fro the center of the circle\n",
        "# we are multiplying random value [0,1] by 2 * PI (which represents a full circle, or 360 degrees)\n",
        "# ensures that theta ranges from 0 to 2π radians (or 0 to 360 degrees), covering all possible directions around the circle.\n",
        "\n",
        "#######################################################\n",
        "ptime_taken=[]\n",
        "ptime_taken.append(0)\n",
        "start=time.time()\n",
        "active_list = []\n",
        "active_list.append(center)\n",
        "numOfPoints=1\n",
        "for base_point in active_list:\n",
        "  r = R+np.random.rand(N)*R\n",
        "  θ = 2*π*np.random.rand(N)\n",
        "  sample_pts = np.asarray([base_point[0]+r*cos(θ), base_point[1]+r*sin(θ)])\n",
        "  for i in sample_pts.T:\n",
        "    flag=True\n",
        "    for j in active_list:\n",
        "      if(np.linalg.norm(j-i)<R):\n",
        "        flag=False\n",
        "        break\n",
        "    if(flag):\n",
        "      numOfPoints=numOfPoints+1\n",
        "      active_list.append(np.array(i))\n",
        "      #axisy=axisy+1\n",
        "      #plt.plot(i[0], i[1], 'r*')\n",
        "      break\n",
        "  #draw(active_list,base_point[0],base_point[1])\n",
        "  #axisx=axisx+1\n",
        "  #if(numOfPoints>=DesiredNumOfPoints):\n",
        "    #print(\"Time taken\",time.time()-start)\n",
        "    #break\n",
        "  if(numOfPoints>=DesiredNumOfPoints):\n",
        "      print(len(active_list))\n",
        "      print(\"Time taken\",time.time()-start)\n",
        "      break\n",
        "print(len(active_list),active_list)\n",
        "active_list=np.asarray(active_list)\n",
        "plt.plot(active_list.T[0],active_list.T[1], 'r*')\n",
        "plt.show()\n"
      ]
    },
    {
      "cell_type": "markdown",
      "metadata": {
        "id": "8cSfzP917JqS"
      },
      "source": [
        "# Basic implementation of the generating random points with min separation"
      ]
    },
    {
      "cell_type": "markdown",
      "metadata": {
        "id": "vWniqAtKi1K0"
      },
      "source": [
        "## Generating the random number of points"
      ]
    },
    {
      "cell_type": "code",
      "execution_count": 39,
      "metadata": {
        "colab": {
          "base_uri": "https://localhost:8080/"
        },
        "id": "jJByQPxZYw7C",
        "outputId": "a891fe35-4517-4caf-ea01-6e782329510e"
      },
      "outputs": [
        {
          "output_type": "stream",
          "name": "stdout",
          "text": [
            "100\n"
          ]
        }
      ],
      "source": [
        "import numpy as np\n",
        "import math\n",
        "import time\n",
        "\n",
        "N=100\n",
        "min_Dist=0.2\n",
        "time_taken=[]\n",
        "time_taken.append(0)\n",
        "for num in range(1,N):\n",
        "  generatedPoints=[]\n",
        "  while(True):\n",
        "    start=time.time()\n",
        "    xn=np.random.randn(30)\n",
        "    yn=np.random.randn(30)\n",
        "    points=[[abs(xn[i]),abs(yn[i])] for i in range(30)]\n",
        "    rng = np.random.default_rng()\n",
        "    x=rng.random(size=(10,))\n",
        "    y=rng.random(size=10,)\n",
        "    generatedPoints.append(points[0])\n",
        "    points.pop(0)\n",
        "    for i in points:\n",
        "      flag=True\n",
        "      for j in generatedPoints:\n",
        "        if(math.dist(i,j)<min_Dist):\n",
        "          flag=False\n",
        "      if(flag):\n",
        "        generatedPoints.append(i)\n",
        "        break\n",
        "    if(len(generatedPoints)>=num):\n",
        "      time_taken.append(time.time()-start)\n",
        "      #print(time_taken)\n",
        "      break\n",
        "len(time_taken)\n",
        "print(len(generatedPoints))"
      ]
    },
    {
      "cell_type": "markdown",
      "metadata": {
        "id": "CG9kkmuNiqpX"
      },
      "source": [
        "## plot after generating the random points with the given range"
      ]
    },
    {
      "cell_type": "code",
      "execution_count": 33,
      "metadata": {
        "colab": {
          "base_uri": "https://localhost:8080/",
          "height": 447
        },
        "id": "XfV_IpddhgD_",
        "outputId": "45c29b90-83b4-495a-c843-9775d29a76df"
      },
      "outputs": [
        {
          "output_type": "execute_result",
          "data": {
            "text/plain": [
              "<matplotlib.collections.PathCollection at 0x78acadc3f430>"
            ]
          },
          "metadata": {},
          "execution_count": 33
        },
        {
          "output_type": "display_data",
          "data": {
            "text/plain": [
              "<Figure size 640x480 with 1 Axes>"
            ],
            "image/png": "[encoded data removed]"
          },
          "metadata": {}
        }
      ],
      "source": [
        "from matplotlib import pyplot as pt\n",
        "pt.scatter(xn,yn)"
      ]
    },
    {
      "cell_type": "markdown",
      "metadata": {
        "id": "sp21V7bBicuA"
      },
      "source": [
        "## plots after maximizing the distance between points that is deleting the closest points"
      ]
    },
    {
      "cell_type": "code",
      "execution_count": 34,
      "metadata": {
        "colab": {
          "base_uri": "https://localhost:8080/",
          "height": 447
        },
        "id": "sL9osDFFZXR1",
        "outputId": "3b0333bd-7251-469c-c9b7-f2f40e7d7a7f"
      },
      "outputs": [
        {
          "output_type": "execute_result",
          "data": {
            "text/plain": [
              "<matplotlib.collections.PathCollection at 0x78acc8a4d210>"
            ]
          },
          "metadata": {},
          "execution_count": 34
        },
        {
          "output_type": "display_data",
          "data": {
            "text/plain": [
              "<Figure size 640x480 with 1 Axes>"
            ],
            "image/png": "[encoded data removed]"
          },
          "metadata": {}
        }
      ],
      "source": [
        "from matplotlib import pyplot as pt\n",
        "x=[]\n",
        "for i in generatedPoints:\n",
        "  x.append(i[0])\n",
        "y=[]\n",
        "for i in generatedPoints:\n",
        "  y.append(i[1])\n",
        "pt.scatter(x,y)"
      ]
    },
    {
      "cell_type": "markdown",
      "source": [
        "## PDS for different N"
      ],
      "metadata": {
        "id": "bkWQYTOD2Hyx"
      }
    },
    {
      "cell_type": "code",
      "source": [
        "import numpy as np\n",
        "from numpy import sin, cos\n",
        "import matplotlib.pyplot as plt\n",
        "import time\n",
        "\n",
        "π = np.pi\n",
        "np.random.seed(seed=156)\n",
        "\n",
        "######################################\n",
        "\n",
        "#### user defines\n",
        "x_center = 0.0\n",
        "y_center = 0.0\n",
        "N        = 30 ## num of random points we generate\n",
        "R        = 2.0 ## minimum separation\n",
        "center = np.array([0,0])\n",
        "DesiredNumOfPoints=100 ## number of points to be sampled\n",
        "\n",
        "#######################################\n",
        "\n",
        "#fig, axes = plt.subplots(int(DesiredNumOfPoints/2), int(DesiredNumOfPoints/2))\n",
        "\n",
        "def draw(active_list,x_center,y_center,axisx,axisy):\n",
        "  active_list=np.asarray(active_list)\n",
        "  #axes[axisx,axisy].plot(active_list.T[0],active_list.T[1])\n",
        "  circle1 = plt.Circle((x_center, y_center), R , color='r', fill=False)\n",
        "  circle2 = plt.Circle((x_center, y_center), 2*R , color='r', fill=False)\n",
        "  plt.scatter(active_list.T[0],active_list.T[1])\n",
        "  plt.gca().add_patch(circle1)\n",
        "  plt.gca().add_patch(circle2)\n",
        "  plt.gca().set_aspect('equal')\n",
        "  for xy in zip(active_list.T[0], active_list.T[1]):\n",
        "   plt.annotate('(%.2f, %.2f)' % xy, xy=xy)\n",
        "  plt.show()\n",
        "\n",
        "#############################################\n",
        "\n",
        "# In the above line we are finding the radial distance r from the center of the circle\n",
        "# we are taking a random number between [0,1] and then multiplying with R (min dist which is a radius of circle) and\n",
        "# adding R to make it R distance away from the point\n",
        "# basically finding a point between circles with radius R and 2R\n",
        "\n",
        "\n",
        "# the same way we are trying to find the random angle fro the center of the circle\n",
        "# we are multiplying random value [0,1] by 2 * PI (which represents a full circle, or 360 degrees)\n",
        "# ensures that theta ranges from 0 to 2π radians (or 0 to 360 degrees), covering all possible directions around the circle.\n",
        "\n",
        "#######################################################\n",
        "ptime_taken=[]\n",
        "ptime_taken.append(0)\n",
        "for num in range(1,DesiredNumOfPoints):\n",
        "  #DesiredNumOfPoints=num\n",
        "  start=time.time()\n",
        "  active_list = []\n",
        "  active_list.append(center)\n",
        "  numOfPoints=1\n",
        "  for base_point in active_list:\n",
        "    r = R+np.random.rand(N)*R\n",
        "    θ = 2*π*np.random.rand(N)\n",
        "    sample_pts = np.asarray([base_point[0]+r*cos(θ), base_point[1]+r*sin(θ)])\n",
        "    for i in sample_pts.T:\n",
        "      flag=True\n",
        "      for j in active_list:\n",
        "        if(np.linalg.norm(j-i)<R):\n",
        "          flag=False\n",
        "          break\n",
        "      if(flag):\n",
        "        active_list.append(np.array(i))\n",
        "        #axisy=axisy+1\n",
        "        #plt.plot(i[0], i[1], 'r*')\n",
        "        break\n",
        "    #draw(active_list,base_point[0],base_point[1],axisx,axisy)\n",
        "    #axisx=axisx+1\n",
        "    numOfPoints=numOfPoints+1\n",
        "    if(numOfPoints>=num):\n",
        "      ptime_taken.append(time.time()-start)\n",
        "      break\n",
        "print(len(active_list),active_list)\n",
        "active_list=np.asarray(active_list)\n",
        "plt.plot(active_list.T[0],active_list.T[1], 'r*')\n",
        "plt.show()\n"
      ],
      "metadata": {
        "colab": {
          "base_uri": "https://localhost:8080/",
          "height": 467
        },
        "id": "BgfyjiJX1BRO",
        "outputId": "8dbd3d5d-67d6-48a8-d02f-43de4bc1d41a"
      },
      "execution_count": 38,
      "outputs": [
        {
          "output_type": "stream",
          "name": "stdout",
          "text": [
            "99 [array([0, 0]), array([-0.11259383, -2.82304726]), array([-2.69982762, -0.20563586]), array([-5.37107385,  0.52725299]), array([-2.88512748,  2.07202252]), array([-5.3785978 ,  4.60075179]), array([-6.10306203,  6.65532819]), array([-8.02132359,  5.87092461]), array([-6.07280459,  8.86746423]), array([-7.11283256, 10.63254771]), array([-10.32212697,  12.28063047]), array([-12.30242479,  10.53976463]), array([-11.13191083,   8.18899122]), array([-8.16574031,  8.52614219]), array([-9.56520219, 10.40067735]), array([-7.96229461, 14.02750902]), array([-5.525149  , 13.88353552]), array([-3.71866299, 12.64835309]), array([-0.17855261, 13.98059041]), array([ 2.33639182, 16.67783051]), array([-0.48525093, 18.10044385]), array([ 0.706171  , 20.29128513]), array([ 1.96831245, 24.02574814]), array([ 3.33093507, 27.55935781]), array([ 0.55895841, 26.21886022]), array([-0.0494805 , 28.46209082]), array([ 0.28941768, 31.82217753]), array([-2.43628912, 32.60667903]), array([-2.58384011, 36.44223627]), array([-2.67513964, 39.08298004]), array([ 0.53726575, 37.35050529]), array([ 0.84507113, 34.08549502]), array([ 3.45471292, 31.05850617]), array([ 7.22507748, 30.67751989]), array([10.4610453 , 32.35676666]), array([11.95448387, 34.98964631]), array([ 9.46107102, 35.13977571]), array([ 9.26320129, 37.99754056]), array([ 5.53785766, 37.92267777]), array([ 4.04602239, 35.37810674]), array([ 5.06105981, 33.57162665]), array([ 3.0622013 , 33.31645998]), array([ 1.57024577, 29.66148809]), array([-1.90799842, 29.66141168]), array([-4.68177   , 32.37989027]), array([-5.5225596 , 34.77041993]), array([-8.46267854, 35.15196391]), array([-11.4305333 ,  33.67881543]), array([-13.10801532,  35.33502517]), array([-17.02617393,  35.0351767 ]), array([-17.73247483,  31.12330745]), array([-18.67750619,  28.79435269]), array([-21.5754438 ,  28.59691484]), array([-21.14216542,  32.16662964]), array([-25.05628227,  32.86561207]), array([-24.20525335,  29.87424211]), array([-26.20088286,  28.73514722]), array([-28.46921386,  31.4989177 ]), array([-28.21182374,  34.08984695]), array([-26.88538759,  36.53956295]), array([-26.61517766,  39.01468842]), array([-28.13142009,  41.44103789]), array([-25.37684984,  40.93841393]), array([-21.87209882,  41.46397721]), array([-18.55417008,  42.88566214]), array([-18.64429261,  40.51527587]), array([-17.46928648,  37.28812943]), array([-15.0040204 ,  36.06328866]), array([-15.26252463,  38.94391635]), array([-13.36723492,  37.55417127]), array([-12.81735627,  41.01403564]), array([-15.70727048,  42.46363667]), array([-16.79358507,  44.35308382]), array([-19.98939318,  44.65807416]), array([-19.94558437,  47.23426265]), array([-21.58672036,  48.9336947 ]), array([-22.52021276,  51.0150848 ]), array([-26.10015996,  51.09694728]), array([-24.19691303,  53.69166946]), array([-26.6794576 ,  55.65057702]), array([-29.68154727,  57.40444201]), array([-31.47949716,  58.70120434]), array([-28.33275817,  59.8882351 ]), array([-31.15518039,  61.37282124]), array([-28.33658702,  62.33514751]), array([-25.97601916,  60.14631638]), array([-22.6719978 ,  60.01602587]), array([-23.88036344,  61.71614915]), array([-24.93886823,  58.26937208]), array([-21.32697816,  57.94571531]), array([-23.08906608,  56.20554962]), array([-21.68692891,  53.5968554 ]), array([-19.64240154,  51.75982225]), array([-16.94936147,  50.66369784]), array([-15.19909044,  52.83931154]), array([-15.7012102 ,  56.01774714]), array([-12.06295646,  57.54809026]), array([-12.33428517,  60.85094648]), array([-8.89347658, 61.61649885])]\n"
          ]
        },
        {
          "output_type": "display_data",
          "data": {
            "text/plain": [
              "<Figure size 640x480 with 1 Axes>"
            ],
            "image/png": "[encoded data removed]"
          },
          "metadata": {}
        }
      ]
    },
    {
      "cell_type": "markdown",
      "source": [
        "## time taken"
      ],
      "metadata": {
        "id": "gMhgN5BO02Ya"
      }
    },
    {
      "cell_type": "code",
      "source": [
        "import matplotlib.pyplot as plt\n",
        "\n",
        "ptime=[0, 0.02403545379638672, 0.0009675025939941406, 0.0009081363677978516, 0.0017478466033935547, 0.002715587615966797, 0.002445697784423828, 0.003141164779663086, 0.0036308765411376953, 0.004774332046508789, 0.005079984664916992, 0.005615234375, 0.006710529327392578, 0.0075571537017822266, 0.007814645767211914, 0.008368253707885742, 0.010805606842041016, 0.009531736373901367, 0.010780096054077148, 0.014195919036865234] #, 0.012491941452026367]\n",
        "gtime=[0, 0.0003979206085205078, 0.0002810955047607422, 0.00022268295288085938, 0.00010943412780761719, 0.00010442733764648438, 0.00011157989501953125, 0.00011348724365234375, 0.00012540817260742188, 0.00010943412780761719, 0.00010943412780761719, 0.00011324882507324219, 0.00017213821411132812, 0.00012302398681640625, 0.00011324882507324219, 0.00012159347534179688, 0.00011754035949707031, 0.00011467933654785156, 7.891654968261719e-05, 7.2479248046875e-05]\n",
        "x=[i for i in range(20)]\n",
        "#ptime=ptime_taken\n",
        "#print(len(ptime_taken))\n",
        "gtime=time_taken\n",
        "print(len(time_taken))\n",
        "plt.plot(x,ptime,label=\"PDS\")\n",
        "plt.plot(x[:84:],gtime,label=\"general method\")\n",
        "plt.legend()\n",
        "plt.show()"
      ],
      "metadata": {
        "colab": {
          "base_uri": "https://localhost:8080/",
          "height": 809
        },
        "id": "aipQv8MMytYX",
        "outputId": "18eeb3f6-0e68-4323-ac87-387471a7af1c"
      },
      "execution_count": 42,
      "outputs": [
        {
          "output_type": "stream",
          "name": "stdout",
          "text": [
            "84\n",
            "100\n"
          ]
        },
        {
          "output_type": "error",
          "ename": "ValueError",
          "evalue": "x and y must have same first dimension, but have shapes (20,) and (84,)",
          "traceback": [
            "\u001b[0;31m---------------------------------------------------------------------------\u001b[0m",
            "\u001b[0;31mValueError\u001b[0m                                Traceback (most recent call last)",
            "\u001b[0;32m<ipython-input-42-b381b8809ce5>\u001b[0m in \u001b[0;36m<cell line: 10>\u001b[0;34m()\u001b[0m\n\u001b[1;32m      8\u001b[0m \u001b[0mgtime\u001b[0m\u001b[0;34m=\u001b[0m\u001b[0mtime_taken\u001b[0m\u001b[0;34m\u001b[0m\u001b[0;34m\u001b[0m\u001b[0m\n\u001b[1;32m      9\u001b[0m \u001b[0mprint\u001b[0m\u001b[0;34m(\u001b[0m\u001b[0mlen\u001b[0m\u001b[0;34m(\u001b[0m\u001b[0mtime_taken\u001b[0m\u001b[0;34m)\u001b[0m\u001b[0;34m)\u001b[0m\u001b[0;34m\u001b[0m\u001b[0;34m\u001b[0m\u001b[0m\n\u001b[0;32m---> 10\u001b[0;31m \u001b[0mplt\u001b[0m\u001b[0;34m.\u001b[0m\u001b[0mplot\u001b[0m\u001b[0;34m(\u001b[0m\u001b[0mx\u001b[0m\u001b[0;34m,\u001b[0m\u001b[0mptime\u001b[0m\u001b[0;34m,\u001b[0m\u001b[0mlabel\u001b[0m\u001b[0;34m=\u001b[0m\u001b[0;34m\"PDS\"\u001b[0m\u001b[0;34m)\u001b[0m\u001b[0;34m\u001b[0m\u001b[0;34m\u001b[0m\u001b[0m\n\u001b[0m\u001b[1;32m     11\u001b[0m \u001b[0mplt\u001b[0m\u001b[0;34m.\u001b[0m\u001b[0mplot\u001b[0m\u001b[0;34m(\u001b[0m\u001b[0mx\u001b[0m\u001b[0;34m,\u001b[0m\u001b[0mgtime\u001b[0m\u001b[0;34m,\u001b[0m\u001b[0mlabel\u001b[0m\u001b[0;34m=\u001b[0m\u001b[0;34m\"general method\"\u001b[0m\u001b[0;34m)\u001b[0m\u001b[0;34m\u001b[0m\u001b[0;34m\u001b[0m\u001b[0m\n\u001b[1;32m     12\u001b[0m \u001b[0mplt\u001b[0m\u001b[0;34m.\u001b[0m\u001b[0mlegend\u001b[0m\u001b[0;34m(\u001b[0m\u001b[0;34m)\u001b[0m\u001b[0;34m\u001b[0m\u001b[0;34m\u001b[0m\u001b[0m\n",
            "\u001b[0;32m/usr/local/lib/python3.10/dist-packages/matplotlib/pyplot.py\u001b[0m in \u001b[0;36mplot\u001b[0;34m(scalex, scaley, data, *args, **kwargs)\u001b[0m\n\u001b[1;32m   2810\u001b[0m \u001b[0;34m@\u001b[0m\u001b[0m_copy_docstring_and_deprecators\u001b[0m\u001b[0;34m(\u001b[0m\u001b[0mAxes\u001b[0m\u001b[0;34m.\u001b[0m\u001b[0mplot\u001b[0m\u001b[0;34m)\u001b[0m\u001b[0;34m\u001b[0m\u001b[0;34m\u001b[0m\u001b[0m\n\u001b[1;32m   2811\u001b[0m \u001b[0;32mdef\u001b[0m \u001b[0mplot\u001b[0m\u001b[0;34m(\u001b[0m\u001b[0;34m*\u001b[0m\u001b[0margs\u001b[0m\u001b[0;34m,\u001b[0m \u001b[0mscalex\u001b[0m\u001b[0;34m=\u001b[0m\u001b[0;32mTrue\u001b[0m\u001b[0;34m,\u001b[0m \u001b[0mscaley\u001b[0m\u001b[0;34m=\u001b[0m\u001b[0;32mTrue\u001b[0m\u001b[0;34m,\u001b[0m \u001b[0mdata\u001b[0m\u001b[0;34m=\u001b[0m\u001b[0;32mNone\u001b[0m\u001b[0;34m,\u001b[0m \u001b[0;34m**\u001b[0m\u001b[0mkwargs\u001b[0m\u001b[0;34m)\u001b[0m\u001b[0;34m:\u001b[0m\u001b[0;34m\u001b[0m\u001b[0;34m\u001b[0m\u001b[0m\n\u001b[0;32m-> 2812\u001b[0;31m     return gca().plot(\n\u001b[0m\u001b[1;32m   2813\u001b[0m         \u001b[0;34m*\u001b[0m\u001b[0margs\u001b[0m\u001b[0;34m,\u001b[0m \u001b[0mscalex\u001b[0m\u001b[0;34m=\u001b[0m\u001b[0mscalex\u001b[0m\u001b[0;34m,\u001b[0m \u001b[0mscaley\u001b[0m\u001b[0;34m=\u001b[0m\u001b[0mscaley\u001b[0m\u001b[0;34m,\u001b[0m\u001b[0;34m\u001b[0m\u001b[0;34m\u001b[0m\u001b[0m\n\u001b[1;32m   2814\u001b[0m         **({\"data\": data} if data is not None else {}), **kwargs)\n",
            "\u001b[0;32m/usr/local/lib/python3.10/dist-packages/matplotlib/axes/_axes.py\u001b[0m in \u001b[0;36mplot\u001b[0;34m(self, scalex, scaley, data, *args, **kwargs)\u001b[0m\n\u001b[1;32m   1686\u001b[0m         \"\"\"\n\u001b[1;32m   1687\u001b[0m         \u001b[0mkwargs\u001b[0m \u001b[0;34m=\u001b[0m \u001b[0mcbook\u001b[0m\u001b[0;34m.\u001b[0m\u001b[0mnormalize_kwargs\u001b[0m\u001b[0;34m(\u001b[0m\u001b[0mkwargs\u001b[0m\u001b[0;34m,\u001b[0m \u001b[0mmlines\u001b[0m\u001b[0;34m.\u001b[0m\u001b[0mLine2D\u001b[0m\u001b[0;34m)\u001b[0m\u001b[0;34m\u001b[0m\u001b[0;34m\u001b[0m\u001b[0m\n\u001b[0;32m-> 1688\u001b[0;31m         \u001b[0mlines\u001b[0m \u001b[0;34m=\u001b[0m \u001b[0;34m[\u001b[0m\u001b[0;34m*\u001b[0m\u001b[0mself\u001b[0m\u001b[0;34m.\u001b[0m\u001b[0m_get_lines\u001b[0m\u001b[0;34m(\u001b[0m\u001b[0;34m*\u001b[0m\u001b[0margs\u001b[0m\u001b[0;34m,\u001b[0m \u001b[0mdata\u001b[0m\u001b[0;34m=\u001b[0m\u001b[0mdata\u001b[0m\u001b[0;34m,\u001b[0m \u001b[0;34m**\u001b[0m\u001b[0mkwargs\u001b[0m\u001b[0;34m)\u001b[0m\u001b[0;34m]\u001b[0m\u001b[0;34m\u001b[0m\u001b[0;34m\u001b[0m\u001b[0m\n\u001b[0m\u001b[1;32m   1689\u001b[0m         \u001b[0;32mfor\u001b[0m \u001b[0mline\u001b[0m \u001b[0;32min\u001b[0m \u001b[0mlines\u001b[0m\u001b[0;34m:\u001b[0m\u001b[0;34m\u001b[0m\u001b[0;34m\u001b[0m\u001b[0m\n\u001b[1;32m   1690\u001b[0m             \u001b[0mself\u001b[0m\u001b[0;34m.\u001b[0m\u001b[0madd_line\u001b[0m\u001b[0;34m(\u001b[0m\u001b[0mline\u001b[0m\u001b[0;34m)\u001b[0m\u001b[0;34m\u001b[0m\u001b[0;34m\u001b[0m\u001b[0m\n",
            "\u001b[0;32m/usr/local/lib/python3.10/dist-packages/matplotlib/axes/_base.py\u001b[0m in \u001b[0;36m__call__\u001b[0;34m(self, data, *args, **kwargs)\u001b[0m\n\u001b[1;32m    309\u001b[0m                 \u001b[0mthis\u001b[0m \u001b[0;34m+=\u001b[0m \u001b[0margs\u001b[0m\u001b[0;34m[\u001b[0m\u001b[0;36m0\u001b[0m\u001b[0;34m]\u001b[0m\u001b[0;34m,\u001b[0m\u001b[0;34m\u001b[0m\u001b[0;34m\u001b[0m\u001b[0m\n\u001b[1;32m    310\u001b[0m                 \u001b[0margs\u001b[0m \u001b[0;34m=\u001b[0m \u001b[0margs\u001b[0m\u001b[0;34m[\u001b[0m\u001b[0;36m1\u001b[0m\u001b[0;34m:\u001b[0m\u001b[0;34m]\u001b[0m\u001b[0;34m\u001b[0m\u001b[0;34m\u001b[0m\u001b[0m\n\u001b[0;32m--> 311\u001b[0;31m             yield from self._plot_args(\n\u001b[0m\u001b[1;32m    312\u001b[0m                 this, kwargs, ambiguous_fmt_datakey=ambiguous_fmt_datakey)\n\u001b[1;32m    313\u001b[0m \u001b[0;34m\u001b[0m\u001b[0m\n",
            "\u001b[0;32m/usr/local/lib/python3.10/dist-packages/matplotlib/axes/_base.py\u001b[0m in \u001b[0;36m_plot_args\u001b[0;34m(self, tup, kwargs, return_kwargs, ambiguous_fmt_datakey)\u001b[0m\n\u001b[1;32m    502\u001b[0m \u001b[0;34m\u001b[0m\u001b[0m\n\u001b[1;32m    503\u001b[0m         \u001b[0;32mif\u001b[0m \u001b[0mx\u001b[0m\u001b[0;34m.\u001b[0m\u001b[0mshape\u001b[0m\u001b[0;34m[\u001b[0m\u001b[0;36m0\u001b[0m\u001b[0;34m]\u001b[0m \u001b[0;34m!=\u001b[0m \u001b[0my\u001b[0m\u001b[0;34m.\u001b[0m\u001b[0mshape\u001b[0m\u001b[0;34m[\u001b[0m\u001b[0;36m0\u001b[0m\u001b[0;34m]\u001b[0m\u001b[0;34m:\u001b[0m\u001b[0;34m\u001b[0m\u001b[0;34m\u001b[0m\u001b[0m\n\u001b[0;32m--> 504\u001b[0;31m             raise ValueError(f\"x and y must have same first dimension, but \"\n\u001b[0m\u001b[1;32m    505\u001b[0m                              f\"have shapes {x.shape} and {y.shape}\")\n\u001b[1;32m    506\u001b[0m         \u001b[0;32mif\u001b[0m \u001b[0mx\u001b[0m\u001b[0;34m.\u001b[0m\u001b[0mndim\u001b[0m \u001b[0;34m>\u001b[0m \u001b[0;36m2\u001b[0m \u001b[0;32mor\u001b[0m \u001b[0my\u001b[0m\u001b[0;34m.\u001b[0m\u001b[0mndim\u001b[0m \u001b[0;34m>\u001b[0m \u001b[0;36m2\u001b[0m\u001b[0;34m:\u001b[0m\u001b[0;34m\u001b[0m\u001b[0;34m\u001b[0m\u001b[0m\n",
            "\u001b[0;31mValueError\u001b[0m: x and y must have same first dimension, but have shapes (20,) and (84,)"
          ]
        },
        {
          "output_type": "display_data",
          "data": {
            "text/plain": [
              "<Figure size 640x480 with 1 Axes>"
            ],
            "image/png": "[encoded data removed]"
          },
          "metadata": {}
        }
      ]
    }
  ],
  "metadata": {
    "colab": {
      "collapsed_sections": [
        "CG9kkmuNiqpX",
        "sp21V7bBicuA",
        "bkWQYTOD2Hyx"
      ],
      "provenance": [],
      "authorship_tag": "ABX9TyMOINK0JN0zymgZVIOn/BQJ",
      "include_colab_link": true
    },
    "kernelspec": {
      "display_name": "Python 3",
      "name": "python3"
    },
    "language_info": {
      "name": "python"
    }
  },
  "nbformat": 4,
  "nbformat_minor": 0
}