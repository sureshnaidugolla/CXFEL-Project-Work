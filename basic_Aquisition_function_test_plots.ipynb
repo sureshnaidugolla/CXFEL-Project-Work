{
  "nbformat": 4,
  "nbformat_minor": 0,
  "metadata": {
    "colab": {
      "provenance": [],
      "collapsed_sections": [
        "sk_C6KgReqPB",
        "DnBAAdaDfAXO"
      ],
      "include_colab_link": true
    },
    "kernelspec": {
      "name": "python3",
      "display_name": "Python 3"
    },
    "language_info": {
      "name": "python"
    }
  },
  "cells": [
    {
      "cell_type": "markdown",
      "metadata": {
        "id": "view-in-github",
        "colab_type": "text"
      },
      "source": [
        "<a href=\"https://colab.research.google.com/github/sureshnaidugolla/myrepo/blob/GP/basic_Aquisition_function_test_plots.ipynb\" target=\"_parent\"><img src=\"https://colab.research.google.com/assets/colab-badge.svg\" alt=\"Open In Colab\"/></a>"
      ]
    },
    {
      "cell_type": "markdown",
      "source": [
        "# Import stuff\n",
        "\n",
        "because gpCAM requires an older version of numpy, be sure to restart the notebook after initial installation."
      ],
      "metadata": {
        "id": "sk_C6KgReqPB"
      }
    },
    {
      "cell_type": "code",
      "execution_count": 1,
      "metadata": {
        "id": "S_DBjQPseHby",
        "colab": {
          "base_uri": "https://localhost:8080/"
        },
        "outputId": "50d45395-0cc4-4aed-ea10-f6c1d0bf27e6"
      },
      "outputs": [
        {
          "output_type": "stream",
          "name": "stdout",
          "text": [
            "--2024-03-05 16:59:51--  https://github.com/jcandane/StochasticPhysics/raw/main/gpcam_test_instrument.py\n",
            "Resolving github.com (github.com)... 140.82.114.3\n",
            "Connecting to github.com (github.com)|140.82.114.3|:443... connected.\n",
            "HTTP request sent, awaiting response... 302 Found\n",
            "Location: https://raw.githubusercontent.com/jcandane/StochasticPhysics/main/gpcam_test_instrument.py [following]\n",
            "--2024-03-05 16:59:51--  https://raw.githubusercontent.com/jcandane/StochasticPhysics/main/gpcam_test_instrument.py\n",
            "Resolving raw.githubusercontent.com (raw.githubusercontent.com)... 185.199.108.133, 185.199.109.133, 185.199.110.133, ...\n",
            "Connecting to raw.githubusercontent.com (raw.githubusercontent.com)|185.199.108.133|:443... connected.\n",
            "HTTP request sent, awaiting response... 200 OK\n",
            "Length: 6882 (6.7K) [text/plain]\n",
            "Saving to: ‘gpcam_test_instrument.py’\n",
            "\n",
            "gpcam_test_instrume 100%[===================>]   6.72K  --.-KB/s    in 0s      \n",
            "\n",
            "2024-03-05 16:59:51 (74.1 MB/s) - ‘gpcam_test_instrument.py’ saved [6882/6882]\n",
            "\n",
            "--2024-03-05 16:59:51--  https://raw.githubusercontent.com/lbl-camera/gpCAM/master/examples/kernel_function.py\n",
            "Resolving raw.githubusercontent.com (raw.githubusercontent.com)... 185.199.108.133, 185.199.109.133, 185.199.110.133, ...\n",
            "Connecting to raw.githubusercontent.com (raw.githubusercontent.com)|185.199.108.133|:443... connected.\n",
            "HTTP request sent, awaiting response... 200 OK\n",
            "Length: 10836 (11K) [text/plain]\n",
            "Saving to: ‘kernel_function.py’\n",
            "\n",
            "kernel_function.py  100%[===================>]  10.58K  --.-KB/s    in 0s      \n",
            "\n",
            "2024-03-05 16:59:51 (67.7 MB/s) - ‘kernel_function.py’ saved [10836/10836]\n",
            "\n"
          ]
        }
      ],
      "source": [
        "import numpy as np\n",
        "import matplotlib.pyplot as plt\n",
        "from tqdm import tqdm\n",
        "\n",
        "try:\n",
        "    from gpcam.autonomous_experimenter import AutonomousExperimenterFvGP\n",
        "except:\n",
        "    !pip install gpcam==8.0.2\n",
        "    from gpcam.autonomous_experimenter import AutonomousExperimenterFvGP\n",
        "\n",
        "try:\n",
        "    import torch\n",
        "except:\n",
        "    !pip install torch\n",
        "    import torch\n",
        "\n",
        "### import custom module !! might be modified in the future !!\n",
        "try:\n",
        "    from gpcam_test_instrument import gpcam_test_instrument\n",
        "except:\n",
        "    !wget https://github.com/jcandane/StochasticPhysics/raw/main/gpcam_test_instrument.py\n",
        "    from gpcam_test_instrument import gpcam_test_instrument\n",
        "\n",
        "### import Noack's file on example kernels\n",
        "try:\n",
        "    from kernel_function import kernel_l2_single_task, kernel_l2_multi_task, kernel_l1, fvgp_kernel, non_stat_kernel_2d, symmetric_kernel, symmetric_kernel2, periodic_kernel_2d\n",
        "except:\n",
        "    !wget https://raw.githubusercontent.com/lbl-camera/gpCAM/master/examples/kernel_function.py\n",
        "    from kernel_function import kernel_l2_single_task, kernel_l2_multi_task, kernel_l1, fvgp_kernel, non_stat_kernel_2d, symmetric_kernel, symmetric_kernel2, periodic_kernel_2d"
      ]
    },
    {
      "cell_type": "markdown",
      "source": [
        "# Lists"
      ],
      "metadata": {
        "id": "PlpEJjfiepBD"
      }
    },
    {
      "cell_type": "markdown",
      "source": [
        "## Acquisition functions used\n",
        "\n",
        "from https://gpcam.lbl.gov/examples/acquisition-functions"
      ],
      "metadata": {
        "id": "zcPbziUIe1QT"
      }
    },
    {
      "cell_type": "code",
      "source": [
        "\n",
        "#available 12 acquisition functions:\n",
        "acquisition_functions = [\"variance\",\"relative information entropy\",\"relative information entropy set\",\n",
        "                        \"ucb\",\"lcb\",\"maximum\",\"minimum\",\"gradient\",\"expected improvement\",\n",
        "                         \"probability of improvement\", \"target probability\", \"total correlation\"]"
      ],
      "metadata": {
        "id": "4knci9k0e0XJ"
      },
      "execution_count": 2,
      "outputs": []
    },
    {
      "cell_type": "markdown",
      "source": [
        "## Kernel functions"
      ],
      "metadata": {
        "id": "RTSFUH7NYqW8"
      }
    },
    {
      "cell_type": "code",
      "source": [
        "kernel_functions = [ kernel_l2_single_task,\n",
        "                     kernel_l2_multi_task, kernel_l1, fvgp_kernel, non_stat_kernel_2d, ### these dont work at least for single-task problems\n",
        "                     symmetric_kernel, symmetric_kernel2, periodic_kernel_2d ] ## : List[ Callable ]\n",
        "\n",
        "kernel_functions = [ kernel_l2_single_task,\n",
        "                     symmetric_kernel, symmetric_kernel2, periodic_kernel_2d, periodic_kernel_2d ] ## : List[ Callable ]"
      ],
      "metadata": {
        "id": "-5WUUOIJYqdw"
      },
      "execution_count": 3,
      "outputs": []
    },
    {
      "cell_type": "markdown",
      "source": [
        "## (\"Instrument\") Functions used"
      ],
      "metadata": {
        "id": "DnBAAdaDfAXO"
      }
    },
    {
      "cell_type": "code",
      "source": [
        "input_space         = np.array([[ 0.0, 10.0]])\n",
        "number_of_functions = 2\n",
        "\n",
        "apparatuses = [ gpcam_test_instrument(input_space, 12, D=1, ξ=2) for i in range(number_of_functions) ]\n",
        "\n",
        "xs = np.linspace(input_space[0,0], input_space[0,1], 100)\n",
        "ys = np.asarray([ f.rcf.evalulate(xs.reshape(-1,1)).reshape(-1) for f in apparatuses ]).T\n",
        "\n",
        "plt.plot(xs, ys)\n",
        "plt.title(\"tested RCF functions\")\n",
        "plt.show()"
      ],
      "metadata": {
        "colab": {
          "base_uri": "https://localhost:8080/",
          "height": 0
        },
        "id": "oxZ3WY2_fEgX",
        "outputId": "fd716927-2403-4ef7-9c48-94c01adbfa26"
      },
      "execution_count": 4,
      "outputs": [
        {
          "output_type": "display_data",
          "data": {
            "text/plain": [
              "<Figure size 640x480 with 1 Axes>"
            ],
            "image/png": "[encoded data removed]"
          },
          "metadata": {}
        }
      ]
    },
    {
      "cell_type": "markdown",
      "source": [
        "# Prototyping space"
      ],
      "metadata": {
        "id": "bfA14fT3ZVpp"
      }
    },
    {
      "cell_type": "code",
      "source": [
        "f = apparatuses[0]\n",
        "k = kernel_functions\n",
        "\n",
        "my_experiment = AutonomousExperimenterFvGP(f.domain,\n",
        "                                           f.D, 1,\n",
        "                                           init_dataset_size=10,\n",
        "                                           instrument_function=f.test_instrumentt,\n",
        "                                           kernel_function = k[2],\n",
        "                                           acquisition_function=\"variance\")\n",
        "my_experiment.train()\n",
        "my_experiment.go(10)\n",
        "\n"
      ],
      "metadata": {
        "colab": {
          "base_uri": "https://localhost:8080/"
        },
        "id": "3WE_SNO-Zfwm",
        "outputId": "018bf4b6-1a97-419b-b689-8f298010b055"
      },
      "execution_count": 5,
      "outputs": [
        {
          "output_type": "stream",
          "name": "stderr",
          "text": [
            "/usr/local/lib/python3.10/dist-packages/fvgp/fvgp.py:300: UserWarning: You have provided callables for kernel, mean, or noise                 functions but no initial hyperparameters.\n",
            "  super().__init__(\n",
            "/usr/local/lib/python3.10/dist-packages/fvgp/fvgp.py:300: UserWarning: It is likely they have to be defined for a success initialization.\n",
            "  super().__init__(\n",
            "/usr/local/lib/python3.10/dist-packages/fvgp/fvgp.py:300: UserWarning: No noise function or measurement noise provided. Noise variances will be set to 1% of mean(y_data).\n",
            "  super().__init__(\n"
          ]
        }
      ]
    },
    {
      "cell_type": "markdown",
      "source": [
        "# Test Space\n",
        "\n",
        "runs in about 6m"
      ],
      "metadata": {
        "id": "vcx_xkLCge7u"
      }
    },
    {
      "cell_type": "markdown",
      "source": [
        "## julio's plot"
      ],
      "metadata": {
        "id": "gpOZtnpztwy0"
      }
    },
    {
      "cell_type": "code",
      "source": [
        "data_out=[]\n",
        "for f in apparatuses:\n",
        "    acq_data_out=[]\n",
        "    for kernel_function in kernel_functions:\n",
        "          my_experiment = AutonomousExperimenterFvGP(f.domain,\n",
        "                                                      f.D, 1,\n",
        "                                                      init_dataset_size=10,\n",
        "                                                      instrument_function=f.test_instrumentt,\n",
        "                                                      kernel_function=kernel_function,\n",
        "                                                      acquisition_function=\"variance\")\n",
        "          my_experiment.train()\n",
        "          my_experiment.go(10)\n",
        "          acq_data_out.append( np.asarray([ my_experiment.x_data.flatten(), my_experiment.y_data.flatten() ]) )\n",
        "    data_out.append(acq_data_out)\n",
        "\n",
        "data_out = np.asarray( data_out )\n",
        "data_out.shape ## (instruments, acquisition-functions, coordinate, data-points)\n",
        "\n",
        "\n",
        "############## Plotting\n",
        "fig, axs = plt.subplots(data_out.shape[0],data_out.shape[1])\n",
        "for a in range(len(apparatuses)):\n",
        "    for k in range(len(kernel_functions)):\n",
        "          axs[a,k].scatter(data_out[a, k, 0], data_out[a,k,1])\n",
        "          axs[a,k].plot(xs, ys[:,a])\n",
        "          axs[a,k].label(k)\n",
        "\n",
        "plt.show()"
      ],
      "metadata": {
        "id": "AgCVdRUSufil"
      },
      "execution_count": null,
      "outputs": []
    },
    {
      "cell_type": "markdown",
      "source": [
        "note acquisition-function should be in .go() class-function because it is only at this point we require the function!"
      ],
      "metadata": {
        "id": "Y6xq1uoPqDRx"
      }
    },
    {
      "cell_type": "code",
      "source": [],
      "metadata": {
        "id": "6SFl52yjjeT7"
      },
      "execution_count": null,
      "outputs": []
    }
  ]
}